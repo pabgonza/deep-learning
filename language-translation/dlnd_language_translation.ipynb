{
 "cells": [
  {
   "cell_type": "markdown",
   "metadata": {
    "collapsed": true,
    "deletable": true,
    "editable": true
   },
   "source": [
    "# Language Translation\n",
    "In this project, you’re going to take a peek into the realm of neural network machine translation.  You’ll be training a sequence to sequence model on a dataset of English and French sentences that can translate new sentences from English to French.\n",
    "## Get the Data\n",
    "Since translating the whole language of English to French will take lots of time to train, we have provided you with a small portion of the English corpus."
   ]
  },
  {
   "cell_type": "code",
   "execution_count": 22,
   "metadata": {
    "collapsed": true,
    "deletable": true,
    "editable": true
   },
   "outputs": [],
   "source": [
    "\"\"\"\n",
    "DON'T MODIFY ANYTHING IN THIS CELL\n",
    "\"\"\"\n",
    "import helper\n",
    "import problem_unittests as tests\n",
    "\n",
    "source_path = 'data/small_vocab_en'\n",
    "target_path = 'data/small_vocab_fr'\n",
    "source_text = helper.load_data(source_path)\n",
    "target_text = helper.load_data(target_path)"
   ]
  },
  {
   "cell_type": "markdown",
   "metadata": {
    "deletable": true,
    "editable": true
   },
   "source": [
    "## Explore the Data\n",
    "Play around with view_sentence_range to view different parts of the data."
   ]
  },
  {
   "cell_type": "code",
   "execution_count": 23,
   "metadata": {
    "collapsed": false,
    "deletable": true,
    "editable": true
   },
   "outputs": [
    {
     "name": "stdout",
     "output_type": "stream",
     "text": [
      "Dataset Stats\n",
      "Roughly the number of unique words: 227\n",
      "Number of sentences: 137861\n",
      "Average number of words in a sentence: 13.225277634719028\n",
      "\n",
      "English sentences 2000 to 2010:\n",
      "she saw the shiny red automobile .\n",
      "new jersey is pleasant during july , and it is sometimes freezing in april .\n",
      "the peach is your most loved fruit , but the lemon is our most loved .\n",
      "he likes grapes , strawberries , and oranges.\n",
      "new jersey is usually cold during november , but it is never warm in october .\n",
      "the peach is her least favorite fruit , but the grapefruit is my least favorite .\n",
      "china is never pleasant during spring , and it is usually dry in july .\n",
      "california is never dry during fall , but it is never wonderful in autumn .\n",
      "how was your visit to china last autumn ?\n",
      "china is sometimes chilly during may , but it is sometimes cold in spring .\n",
      "\n",
      "French sentences 2000 to 2010:\n",
      "elle a vu la brillante voiture rouge .\n",
      "new jersey est agréable en juillet , et il est parfois le gel en avril .\n",
      "la pêche est votre fruit le plus aimé , mais le citron est notre plus aimé .\n",
      "il aime les raisins , les fraises et les oranges .\n",
      "new jersey est généralement froid en novembre , mais il est jamais chaud en octobre .\n",
      "la pêche est moins son fruit préféré , mais le pamplemousse est mon préféré moins .\n",
      "chine est jamais agréable au printemps , et il est généralement sec en juillet .\n",
      "californie est jamais à sec pendant l' automne , mais il est jamais merveilleux à l' automne .\n",
      "comment était votre visite en chine l' automne dernier ?\n",
      "la chine est parfois frisquet en mai , mais il est parfois froid au printemps .\n"
     ]
    }
   ],
   "source": [
    "view_sentence_range = (2000, 2010)\n",
    "\n",
    "\"\"\"\n",
    "DON'T MODIFY ANYTHING IN THIS CELL\n",
    "\"\"\"\n",
    "import numpy as np\n",
    "\n",
    "print('Dataset Stats')\n",
    "print('Roughly the number of unique words: {}'.format(len({word: None for word in source_text.split()})))\n",
    "\n",
    "sentences = source_text.split('\\n')\n",
    "word_counts = [len(sentence.split()) for sentence in sentences]\n",
    "print('Number of sentences: {}'.format(len(sentences)))\n",
    "print('Average number of words in a sentence: {}'.format(np.average(word_counts)))\n",
    "\n",
    "print()\n",
    "print('English sentences {} to {}:'.format(*view_sentence_range))\n",
    "print('\\n'.join(source_text.split('\\n')[view_sentence_range[0]:view_sentence_range[1]]))\n",
    "print()\n",
    "print('French sentences {} to {}:'.format(*view_sentence_range))\n",
    "print('\\n'.join(target_text.split('\\n')[view_sentence_range[0]:view_sentence_range[1]]))"
   ]
  },
  {
   "cell_type": "markdown",
   "metadata": {
    "deletable": true,
    "editable": true
   },
   "source": [
    "## Implement Preprocessing Function\n",
    "### Text to Word Ids\n",
    "As you did with other RNNs, you must turn the text into a number so the computer can understand it. In the function `text_to_ids()`, you'll turn `source_text` and `target_text` from words to ids.  However, you need to add the `<EOS>` word id at the end of `target_text`.  This will help the neural network predict when the sentence should end.\n",
    "\n",
    "You can get the `<EOS>` word id by doing:\n",
    "```python\n",
    "target_vocab_to_int['<EOS>']\n",
    "```\n",
    "You can get other word ids using `source_vocab_to_int` and `target_vocab_to_int`."
   ]
  },
  {
   "cell_type": "code",
   "execution_count": 24,
   "metadata": {
    "collapsed": false,
    "deletable": true,
    "editable": true
   },
   "outputs": [
    {
     "name": "stdout",
     "output_type": "stream",
     "text": [
      "Tests Passed\n"
     ]
    }
   ],
   "source": [
    "def text_to_ids(source_text, target_text, source_vocab_to_int, target_vocab_to_int):\n",
    "    \"\"\"\n",
    "    Convert source and target text to proper word ids\n",
    "    :param source_text: String that contains all the source text.\n",
    "    :param target_text: String that contains all the target text.\n",
    "    :param source_vocab_to_int: Dictionary to go from the source words to an id\n",
    "    :param target_vocab_to_int: Dictionary to go from the target words to an id\n",
    "    :return: A tuple of lists (source_id_text, target_id_text)\n",
    "    \"\"\"\n",
    "    # TODO: Implement Function  \n",
    "    source_id_text = [ [source_vocab_to_int[word] for word in sentence.split() ] for sentence in source_text.split('\\n') ] \n",
    "    target_id_text = [ [target_vocab_to_int[word] for word in sentence.split() ] + [ target_vocab_to_int['<EOS>'] ] for sentence in target_text.split('\\n')] \n",
    "    return source_id_text, target_id_text\n",
    "\n",
    "\"\"\"\n",
    "DON'T MODIFY ANYTHING IN THIS CELL THAT IS BELOW THIS LINE\n",
    "\"\"\"\n",
    "tests.test_text_to_ids(text_to_ids)"
   ]
  },
  {
   "cell_type": "markdown",
   "metadata": {
    "deletable": true,
    "editable": true
   },
   "source": [
    "### Preprocess all the data and save it\n",
    "Running the code cell below will preprocess all the data and save it to file."
   ]
  },
  {
   "cell_type": "code",
   "execution_count": 25,
   "metadata": {
    "collapsed": true,
    "deletable": true,
    "editable": true
   },
   "outputs": [],
   "source": [
    "\"\"\"\n",
    "DON'T MODIFY ANYTHING IN THIS CELL\n",
    "\"\"\"\n",
    "helper.preprocess_and_save_data(source_path, target_path, text_to_ids)"
   ]
  },
  {
   "cell_type": "markdown",
   "metadata": {
    "deletable": true,
    "editable": true
   },
   "source": [
    "# Check Point\n",
    "This is your first checkpoint. If you ever decide to come back to this notebook or have to restart the notebook, you can start from here. The preprocessed data has been saved to disk."
   ]
  },
  {
   "cell_type": "code",
   "execution_count": 26,
   "metadata": {
    "collapsed": true,
    "deletable": true,
    "editable": true
   },
   "outputs": [],
   "source": [
    "\"\"\"\n",
    "DON'T MODIFY ANYTHING IN THIS CELL\n",
    "\"\"\"\n",
    "import numpy as np\n",
    "import helper\n",
    "import problem_unittests as tests\n",
    "\n",
    "(source_int_text, target_int_text), (source_vocab_to_int, target_vocab_to_int), _ = helper.load_preprocess()"
   ]
  },
  {
   "cell_type": "markdown",
   "metadata": {
    "deletable": true,
    "editable": true
   },
   "source": [
    "### Check the Version of TensorFlow and Access to GPU\n",
    "This will check to make sure you have the correct version of TensorFlow and access to a GPU"
   ]
  },
  {
   "cell_type": "code",
   "execution_count": 27,
   "metadata": {
    "collapsed": false,
    "deletable": true,
    "editable": true
   },
   "outputs": [
    {
     "name": "stdout",
     "output_type": "stream",
     "text": [
      "TensorFlow Version: 1.3.0\n",
      "Default GPU Device: /gpu:0\n"
     ]
    }
   ],
   "source": [
    "\"\"\"\n",
    "DON'T MODIFY ANYTHING IN THIS CELL\n",
    "\"\"\"\n",
    "from distutils.version import LooseVersion\n",
    "import warnings\n",
    "import tensorflow as tf\n",
    "from tensorflow.python.layers.core import Dense\n",
    "\n",
    "# Check TensorFlow Version\n",
    "assert LooseVersion(tf.__version__) >= LooseVersion('1.1'), 'Please use TensorFlow version 1.1 or newer'\n",
    "print('TensorFlow Version: {}'.format(tf.__version__))\n",
    "\n",
    "# Check for a GPU\n",
    "if not tf.test.gpu_device_name():\n",
    "    warnings.warn('No GPU found. Please use a GPU to train your neural network.')\n",
    "else:\n",
    "    print('Default GPU Device: {}'.format(tf.test.gpu_device_name()))"
   ]
  },
  {
   "cell_type": "markdown",
   "metadata": {
    "deletable": true,
    "editable": true
   },
   "source": [
    "## Build the Neural Network\n",
    "You'll build the components necessary to build a Sequence-to-Sequence model by implementing the following functions below:\n",
    "- `model_inputs`\n",
    "- `process_decoder_input`\n",
    "- `encoding_layer`\n",
    "- `decoding_layer_train`\n",
    "- `decoding_layer_infer`\n",
    "- `decoding_layer`\n",
    "- `seq2seq_model`\n",
    "\n",
    "### Input\n",
    "Implement the `model_inputs()` function to create TF Placeholders for the Neural Network. It should create the following placeholders:\n",
    "\n",
    "- Input text placeholder named \"input\" using the TF Placeholder name parameter with rank 2.\n",
    "- Targets placeholder with rank 2.\n",
    "- Learning rate placeholder with rank 0.\n",
    "- Keep probability placeholder named \"keep_prob\" using the TF Placeholder name parameter with rank 0.\n",
    "- Target sequence length placeholder named \"target_sequence_length\" with rank 1\n",
    "- Max target sequence length tensor named \"max_target_len\" getting its value from applying tf.reduce_max on the target_sequence_length placeholder. Rank 0.\n",
    "- Source sequence length placeholder named \"source_sequence_length\" with rank 1\n",
    "\n",
    "Return the placeholders in the following the tuple (input, targets, learning rate, keep probability, target sequence length, max target sequence length, source sequence length)"
   ]
  },
  {
   "cell_type": "code",
   "execution_count": 28,
   "metadata": {
    "collapsed": false,
    "deletable": true,
    "editable": true
   },
   "outputs": [
    {
     "name": "stdout",
     "output_type": "stream",
     "text": [
      "ERROR:tensorflow:==================================\n",
      "Object was never used (type <class 'tensorflow.python.framework.ops.Operation'>):\n",
      "<tf.Operation 'assert_rank_2/Assert/Assert' type=Assert>\n",
      "If you want to mark it as used call its \"mark_used()\" method.\n",
      "It was originally created here:\n",
      "['File \"/home/carnd/anaconda3/envs/dl-tf1.3/lib/python3.5/runpy.py\", line 184, in _run_module_as_main\\n    \"__main__\", mod_spec)', 'File \"/home/carnd/anaconda3/envs/dl-tf1.3/lib/python3.5/runpy.py\", line 85, in _run_code\\n    exec(code, run_globals)', 'File \"/home/carnd/anaconda3/envs/dl-tf1.3/lib/python3.5/site-packages/ipykernel/__main__.py\", line 3, in <module>\\n    app.launch_new_instance()', 'File \"/home/carnd/anaconda3/envs/dl-tf1.3/lib/python3.5/site-packages/traitlets/config/application.py\", line 658, in launch_instance\\n    app.start()', 'File \"/home/carnd/anaconda3/envs/dl-tf1.3/lib/python3.5/site-packages/ipykernel/kernelapp.py\", line 474, in start\\n    ioloop.IOLoop.instance().start()', 'File \"/home/carnd/anaconda3/envs/dl-tf1.3/lib/python3.5/site-packages/zmq/eventloop/ioloop.py\", line 177, in start\\n    super(ZMQIOLoop, self).start()', 'File \"/home/carnd/anaconda3/envs/dl-tf1.3/lib/python3.5/site-packages/tornado/ioloop.py\", line 887, in start\\n    handler_func(fd_obj, events)', 'File \"/home/carnd/anaconda3/envs/dl-tf1.3/lib/python3.5/site-packages/tornado/stack_context.py\", line 275, in null_wrapper\\n    return fn(*args, **kwargs)', 'File \"/home/carnd/anaconda3/envs/dl-tf1.3/lib/python3.5/site-packages/zmq/eventloop/zmqstream.py\", line 440, in _handle_events\\n    self._handle_recv()', 'File \"/home/carnd/anaconda3/envs/dl-tf1.3/lib/python3.5/site-packages/zmq/eventloop/zmqstream.py\", line 472, in _handle_recv\\n    self._run_callback(callback, msg)', 'File \"/home/carnd/anaconda3/envs/dl-tf1.3/lib/python3.5/site-packages/zmq/eventloop/zmqstream.py\", line 414, in _run_callback\\n    callback(*args, **kwargs)', 'File \"/home/carnd/anaconda3/envs/dl-tf1.3/lib/python3.5/site-packages/tornado/stack_context.py\", line 275, in null_wrapper\\n    return fn(*args, **kwargs)', 'File \"/home/carnd/anaconda3/envs/dl-tf1.3/lib/python3.5/site-packages/ipykernel/kernelbase.py\", line 276, in dispatcher\\n    return self.dispatch_shell(stream, msg)', 'File \"/home/carnd/anaconda3/envs/dl-tf1.3/lib/python3.5/site-packages/ipykernel/kernelbase.py\", line 228, in dispatch_shell\\n    handler(stream, idents, msg)', 'File \"/home/carnd/anaconda3/envs/dl-tf1.3/lib/python3.5/site-packages/ipykernel/kernelbase.py\", line 390, in execute_request\\n    user_expressions, allow_stdin)', 'File \"/home/carnd/anaconda3/envs/dl-tf1.3/lib/python3.5/site-packages/ipykernel/ipkernel.py\", line 196, in do_execute\\n    res = shell.run_cell(code, store_history=store_history, silent=silent)', 'File \"/home/carnd/anaconda3/envs/dl-tf1.3/lib/python3.5/site-packages/ipykernel/zmqshell.py\", line 501, in run_cell\\n    return super(ZMQInteractiveShell, self).run_cell(*args, **kwargs)', 'File \"/home/carnd/anaconda3/envs/dl-tf1.3/lib/python3.5/site-packages/IPython/core/interactiveshell.py\", line 2717, in run_cell\\n    interactivity=interactivity, compiler=compiler, result=result)', 'File \"/home/carnd/anaconda3/envs/dl-tf1.3/lib/python3.5/site-packages/IPython/core/interactiveshell.py\", line 2827, in run_ast_nodes\\n    if self.run_code(code, result):', 'File \"/home/carnd/anaconda3/envs/dl-tf1.3/lib/python3.5/site-packages/IPython/core/interactiveshell.py\", line 2881, in run_code\\n    exec(code_obj, self.user_global_ns, self.user_ns)', 'File \"<ipython-input-28-0c794b9af6a4>\", line 23, in <module>\\n    tests.test_model_inputs(model_inputs)', 'File \"/home/carnd/deep-learning/language-translation/problem_unittests.py\", line 106, in test_model_inputs\\n    assert tf.assert_rank(lr, 0, message=\\'Learning Rate has wrong rank\\')', 'File \"/home/carnd/anaconda3/envs/dl-tf1.3/lib/python3.5/site-packages/tensorflow/python/ops/check_ops.py\", line 617, in assert_rank\\n    dynamic_condition, data, summarize)', 'File \"/home/carnd/anaconda3/envs/dl-tf1.3/lib/python3.5/site-packages/tensorflow/python/ops/check_ops.py\", line 571, in _assert_rank_condition\\n    return control_flow_ops.Assert(condition, data, summarize=summarize)', 'File \"/home/carnd/anaconda3/envs/dl-tf1.3/lib/python3.5/site-packages/tensorflow/python/util/tf_should_use.py\", line 175, in wrapped\\n    return _add_should_use_warning(fn(*args, **kwargs))', 'File \"/home/carnd/anaconda3/envs/dl-tf1.3/lib/python3.5/site-packages/tensorflow/python/util/tf_should_use.py\", line 144, in _add_should_use_warning\\n    wrapped = TFShouldUseWarningWrapper(x)', 'File \"/home/carnd/anaconda3/envs/dl-tf1.3/lib/python3.5/site-packages/tensorflow/python/util/tf_should_use.py\", line 101, in __init__\\n    stack = [s.strip() for s in traceback.format_stack()]']\n",
      "==================================\n",
      "ERROR:tensorflow:==================================\n",
      "Object was never used (type <class 'tensorflow.python.framework.ops.Operation'>):\n",
      "<tf.Operation 'assert_rank_3/Assert/Assert' type=Assert>\n",
      "If you want to mark it as used call its \"mark_used()\" method.\n",
      "It was originally created here:\n",
      "['File \"/home/carnd/anaconda3/envs/dl-tf1.3/lib/python3.5/runpy.py\", line 184, in _run_module_as_main\\n    \"__main__\", mod_spec)', 'File \"/home/carnd/anaconda3/envs/dl-tf1.3/lib/python3.5/runpy.py\", line 85, in _run_code\\n    exec(code, run_globals)', 'File \"/home/carnd/anaconda3/envs/dl-tf1.3/lib/python3.5/site-packages/ipykernel/__main__.py\", line 3, in <module>\\n    app.launch_new_instance()', 'File \"/home/carnd/anaconda3/envs/dl-tf1.3/lib/python3.5/site-packages/traitlets/config/application.py\", line 658, in launch_instance\\n    app.start()', 'File \"/home/carnd/anaconda3/envs/dl-tf1.3/lib/python3.5/site-packages/ipykernel/kernelapp.py\", line 474, in start\\n    ioloop.IOLoop.instance().start()', 'File \"/home/carnd/anaconda3/envs/dl-tf1.3/lib/python3.5/site-packages/zmq/eventloop/ioloop.py\", line 177, in start\\n    super(ZMQIOLoop, self).start()', 'File \"/home/carnd/anaconda3/envs/dl-tf1.3/lib/python3.5/site-packages/tornado/ioloop.py\", line 887, in start\\n    handler_func(fd_obj, events)', 'File \"/home/carnd/anaconda3/envs/dl-tf1.3/lib/python3.5/site-packages/tornado/stack_context.py\", line 275, in null_wrapper\\n    return fn(*args, **kwargs)', 'File \"/home/carnd/anaconda3/envs/dl-tf1.3/lib/python3.5/site-packages/zmq/eventloop/zmqstream.py\", line 440, in _handle_events\\n    self._handle_recv()', 'File \"/home/carnd/anaconda3/envs/dl-tf1.3/lib/python3.5/site-packages/zmq/eventloop/zmqstream.py\", line 472, in _handle_recv\\n    self._run_callback(callback, msg)', 'File \"/home/carnd/anaconda3/envs/dl-tf1.3/lib/python3.5/site-packages/zmq/eventloop/zmqstream.py\", line 414, in _run_callback\\n    callback(*args, **kwargs)', 'File \"/home/carnd/anaconda3/envs/dl-tf1.3/lib/python3.5/site-packages/tornado/stack_context.py\", line 275, in null_wrapper\\n    return fn(*args, **kwargs)', 'File \"/home/carnd/anaconda3/envs/dl-tf1.3/lib/python3.5/site-packages/ipykernel/kernelbase.py\", line 276, in dispatcher\\n    return self.dispatch_shell(stream, msg)', 'File \"/home/carnd/anaconda3/envs/dl-tf1.3/lib/python3.5/site-packages/ipykernel/kernelbase.py\", line 228, in dispatch_shell\\n    handler(stream, idents, msg)', 'File \"/home/carnd/anaconda3/envs/dl-tf1.3/lib/python3.5/site-packages/ipykernel/kernelbase.py\", line 390, in execute_request\\n    user_expressions, allow_stdin)', 'File \"/home/carnd/anaconda3/envs/dl-tf1.3/lib/python3.5/site-packages/ipykernel/ipkernel.py\", line 196, in do_execute\\n    res = shell.run_cell(code, store_history=store_history, silent=silent)', 'File \"/home/carnd/anaconda3/envs/dl-tf1.3/lib/python3.5/site-packages/ipykernel/zmqshell.py\", line 501, in run_cell\\n    return super(ZMQInteractiveShell, self).run_cell(*args, **kwargs)', 'File \"/home/carnd/anaconda3/envs/dl-tf1.3/lib/python3.5/site-packages/IPython/core/interactiveshell.py\", line 2717, in run_cell\\n    interactivity=interactivity, compiler=compiler, result=result)', 'File \"/home/carnd/anaconda3/envs/dl-tf1.3/lib/python3.5/site-packages/IPython/core/interactiveshell.py\", line 2827, in run_ast_nodes\\n    if self.run_code(code, result):', 'File \"/home/carnd/anaconda3/envs/dl-tf1.3/lib/python3.5/site-packages/IPython/core/interactiveshell.py\", line 2881, in run_code\\n    exec(code_obj, self.user_global_ns, self.user_ns)', 'File \"<ipython-input-28-0c794b9af6a4>\", line 23, in <module>\\n    tests.test_model_inputs(model_inputs)', 'File \"/home/carnd/deep-learning/language-translation/problem_unittests.py\", line 107, in test_model_inputs\\n    assert tf.assert_rank(keep_prob, 0, message=\\'Keep Probability has wrong rank\\')', 'File \"/home/carnd/anaconda3/envs/dl-tf1.3/lib/python3.5/site-packages/tensorflow/python/ops/check_ops.py\", line 617, in assert_rank\\n    dynamic_condition, data, summarize)', 'File \"/home/carnd/anaconda3/envs/dl-tf1.3/lib/python3.5/site-packages/tensorflow/python/ops/check_ops.py\", line 571, in _assert_rank_condition\\n    return control_flow_ops.Assert(condition, data, summarize=summarize)', 'File \"/home/carnd/anaconda3/envs/dl-tf1.3/lib/python3.5/site-packages/tensorflow/python/util/tf_should_use.py\", line 175, in wrapped\\n    return _add_should_use_warning(fn(*args, **kwargs))', 'File \"/home/carnd/anaconda3/envs/dl-tf1.3/lib/python3.5/site-packages/tensorflow/python/util/tf_should_use.py\", line 144, in _add_should_use_warning\\n    wrapped = TFShouldUseWarningWrapper(x)', 'File \"/home/carnd/anaconda3/envs/dl-tf1.3/lib/python3.5/site-packages/tensorflow/python/util/tf_should_use.py\", line 101, in __init__\\n    stack = [s.strip() for s in traceback.format_stack()]']\n",
      "==================================\n",
      "Tests Passed\n"
     ]
    }
   ],
   "source": [
    "def model_inputs():\n",
    "    \"\"\"\n",
    "    Create TF Placeholders for input, targets, learning rate, and lengths of source and target sequences.\n",
    "    :return: Tuple (input, targets, learning rate, keep probability, target sequence length,\n",
    "    max target sequence length, source sequence length)\n",
    "    \"\"\"\n",
    "    # TODO: Implement Function\n",
    "    input_ = tf.placeholder( tf.int32, (None,None), name='input' )\n",
    "    targets_ = tf.placeholder( tf.int32, (None,None), name='targets' )\n",
    "    learning_rate_ = tf.placeholder( tf.float32, name='learning_rate' )\n",
    "    keep_prob_= tf.placeholder( tf.float32, name='keep_prob' )\n",
    "    target_sequence_length_ = tf.placeholder( tf.int32, (None,), name='target_sequence_length' )\n",
    "    \n",
    "    max_target_len_ = tf.reduce_max( target_sequence_length_, name='max_target_len' )\n",
    "    source_sequence_length_ = tf.placeholder( tf.int32, (None,), name='source_sequence_length' )\n",
    "    \n",
    "    return input_, targets_, learning_rate_, keep_prob_, target_sequence_length_, max_target_len_, source_sequence_length_\n",
    "\n",
    "\n",
    "\"\"\"\n",
    "DON'T MODIFY ANYTHING IN THIS CELL THAT IS BELOW THIS LINE\n",
    "\"\"\"\n",
    "tests.test_model_inputs(model_inputs)"
   ]
  },
  {
   "cell_type": "markdown",
   "metadata": {
    "deletable": true,
    "editable": true
   },
   "source": [
    "### Process Decoder Input\n",
    "Implement `process_decoder_input` by removing the last word id from each batch in `target_data` and concat the GO ID to the begining of each batch."
   ]
  },
  {
   "cell_type": "code",
   "execution_count": 29,
   "metadata": {
    "collapsed": false,
    "deletable": true,
    "editable": true
   },
   "outputs": [
    {
     "name": "stdout",
     "output_type": "stream",
     "text": [
      "Tests Passed\n"
     ]
    }
   ],
   "source": [
    "def process_decoder_input(target_data, target_vocab_to_int, batch_size):\n",
    "    \"\"\"\n",
    "    Preprocess target data for encoding\n",
    "    :param target_data: Target Placehoder\n",
    "    :param target_vocab_to_int: Dictionary to go from the target words to an id\n",
    "    :param batch_size: Batch Size\n",
    "    :return: Preprocessed target data\n",
    "    \"\"\"\n",
    "    # TODO: Implement Function\n",
    "    ending = tf.strided_slice( target_data, [0,0], [batch_size,-1],[1,1] )\n",
    "    decoder_input = tf.concat([ tf.fill( [batch_size,1], target_vocab_to_int['<GO>'] ), ending ] , 1)\n",
    "\n",
    "    return decoder_input\n",
    "\n",
    "\"\"\"\n",
    "DON'T MODIFY ANYTHING IN THIS CELL THAT IS BELOW THIS LINE\n",
    "\"\"\"\n",
    "tests.test_process_encoding_input(process_decoder_input)"
   ]
  },
  {
   "cell_type": "markdown",
   "metadata": {
    "deletable": true,
    "editable": true
   },
   "source": [
    "### Encoding\n",
    "Implement `encoding_layer()` to create a Encoder RNN layer:\n",
    " * Embed the encoder input using [`tf.contrib.layers.embed_sequence`](https://www.tensorflow.org/api_docs/python/tf/contrib/layers/embed_sequence)\n",
    " * Construct a [stacked](https://github.com/tensorflow/tensorflow/blob/6947f65a374ebf29e74bb71e36fd82760056d82c/tensorflow/docs_src/tutorials/recurrent.md#stacking-multiple-lstms) [`tf.contrib.rnn.LSTMCell`](https://www.tensorflow.org/api_docs/python/tf/contrib/rnn/LSTMCell) wrapped in a [`tf.contrib.rnn.DropoutWrapper`](https://www.tensorflow.org/api_docs/python/tf/contrib/rnn/DropoutWrapper)\n",
    " * Pass cell and embedded input to [`tf.nn.dynamic_rnn()`](https://www.tensorflow.org/api_docs/python/tf/nn/dynamic_rnn)"
   ]
  },
  {
   "cell_type": "code",
   "execution_count": 30,
   "metadata": {
    "collapsed": false,
    "deletable": true,
    "editable": true,
    "scrolled": false
   },
   "outputs": [
    {
     "name": "stdout",
     "output_type": "stream",
     "text": [
      "Tests Passed\n"
     ]
    }
   ],
   "source": [
    "from imp import reload\n",
    "reload(tests)\n",
    "\n",
    "def encoding_layer(rnn_inputs, rnn_size, num_layers, keep_prob, \n",
    "                   source_sequence_length, source_vocab_size, \n",
    "                   encoding_embedding_size):\n",
    "    \"\"\"\n",
    "    Create encoding layer\n",
    "    :param rnn_inputs: Inputs for the RNN\n",
    "    :param rnn_size: RNN Size\n",
    "    :param num_layers: Number of layers\n",
    "    :param keep_prob: Dropout keep probability\n",
    "    :param source_sequence_length: a list of the lengths of each sequence in the batch\n",
    "    :param source_vocab_size: vocabulary size of source data\n",
    "    :param encoding_embedding_size: embedding size of source data\n",
    "    :return: tuple (RNN output, RNN state)\n",
    "    \"\"\"\n",
    "    # TODO: Implement Function\n",
    "    # Embedding\n",
    "    enc_embed_input = tf.contrib.layers.embed_sequence( rnn_inputs, source_vocab_size, encoding_embedding_size )\n",
    "    \n",
    "    # RNN Cell\n",
    "    def rnn_cell( rnn_size, keep_prob ):\n",
    "        enc_cell = tf.contrib.rnn.LSTMCell( rnn_size, initializer=tf.random_uniform_initializer(-0.1,0.1,seed=99) )\n",
    "        drop_cell = tf.contrib.rnn.DropoutWrapper( enc_cell, output_keep_prob=keep_prob )\n",
    "        return drop_cell\n",
    "    \n",
    "    enc_cell = tf.contrib.rnn.MultiRNNCell( [ rnn_cell(rnn_size, keep_prob) for _ in range(num_layers) ] )\n",
    "    enc_output, enc_state = tf.nn.dynamic_rnn( enc_cell, enc_embed_input, sequence_length=source_sequence_length, dtype=tf.float32 )\n",
    "    \n",
    "    return enc_output, enc_state \n",
    "\n",
    "\"\"\"\n",
    "DON'T MODIFY ANYTHING IN THIS CELL THAT IS BELOW THIS LINE\n",
    "\"\"\"\n",
    "tests.test_encoding_layer(encoding_layer)"
   ]
  },
  {
   "cell_type": "markdown",
   "metadata": {
    "deletable": true,
    "editable": true
   },
   "source": [
    "### Decoding - Training\n",
    "Create a training decoding layer:\n",
    "* Create a [`tf.contrib.seq2seq.TrainingHelper`](https://www.tensorflow.org/api_docs/python/tf/contrib/seq2seq/TrainingHelper) \n",
    "* Create a [`tf.contrib.seq2seq.BasicDecoder`](https://www.tensorflow.org/api_docs/python/tf/contrib/seq2seq/BasicDecoder)\n",
    "* Obtain the decoder outputs from [`tf.contrib.seq2seq.dynamic_decode`](https://www.tensorflow.org/api_docs/python/tf/contrib/seq2seq/dynamic_decode)"
   ]
  },
  {
   "cell_type": "code",
   "execution_count": 31,
   "metadata": {
    "collapsed": false,
    "deletable": true,
    "editable": true
   },
   "outputs": [
    {
     "name": "stdout",
     "output_type": "stream",
     "text": [
      "Tests Passed\n"
     ]
    }
   ],
   "source": [
    "\n",
    "def decoding_layer_train(encoder_state, dec_cell, dec_embed_input, \n",
    "                         target_sequence_length, max_summary_length, \n",
    "                         output_layer, keep_prob):\n",
    "    \"\"\"\n",
    "    Create a decoding layer for training\n",
    "    :param encoder_state: Encoder State\n",
    "    :param dec_cell: Decoder RNN Cell\n",
    "    :param dec_embed_input: Decoder embedded input\n",
    "    :param target_sequence_length: The lengths of each sequence in the target batch\n",
    "    :param max_summary_length: The length of the longest sequence in the batch\n",
    "    :param output_layer: Function to apply the output layer\n",
    "    :param keep_prob: Dropout keep probability\n",
    "    :return: BasicDecoderOutput containing training logits and sample_id\n",
    "    \"\"\"\n",
    "    # TODO: Implement Function\n",
    "    training_helper = tf.contrib.seq2seq.TrainingHelper( inputs=dec_embed_input,\n",
    "                                                         sequence_length=target_sequence_length,\n",
    "                                                         time_major=False )\n",
    "    \n",
    "    training_decoder = tf.contrib.seq2seq.BasicDecoder( dec_cell, training_helper, encoder_state, output_layer )\n",
    "    \n",
    "    training_decoder_output = tf.contrib.seq2seq.dynamic_decode( training_decoder, \n",
    "                                                                impute_finished=True,\n",
    "                                                                maximum_iterations=max_summary_length)[0]\n",
    "    \n",
    "    return training_decoder_output\n",
    "\n",
    "\n",
    "\n",
    "\"\"\"\n",
    "DON'T MODIFY ANYTHING IN THIS CELL THAT IS BELOW THIS LINE\n",
    "\"\"\"\n",
    "tests.test_decoding_layer_train(decoding_layer_train)"
   ]
  },
  {
   "cell_type": "markdown",
   "metadata": {
    "deletable": true,
    "editable": true
   },
   "source": [
    "### Decoding - Inference\n",
    "Create inference decoder:\n",
    "* Create a [`tf.contrib.seq2seq.GreedyEmbeddingHelper`](https://www.tensorflow.org/api_docs/python/tf/contrib/seq2seq/GreedyEmbeddingHelper)\n",
    "* Create a [`tf.contrib.seq2seq.BasicDecoder`](https://www.tensorflow.org/api_docs/python/tf/contrib/seq2seq/BasicDecoder)\n",
    "* Obtain the decoder outputs from [`tf.contrib.seq2seq.dynamic_decode`](https://www.tensorflow.org/api_docs/python/tf/contrib/seq2seq/dynamic_decode)"
   ]
  },
  {
   "cell_type": "code",
   "execution_count": 32,
   "metadata": {
    "collapsed": false,
    "deletable": true,
    "editable": true,
    "scrolled": true
   },
   "outputs": [
    {
     "name": "stdout",
     "output_type": "stream",
     "text": [
      "Tests Passed\n"
     ]
    }
   ],
   "source": [
    "def decoding_layer_infer(encoder_state, dec_cell, dec_embeddings, start_of_sequence_id,\n",
    "                         end_of_sequence_id, max_target_sequence_length,\n",
    "                         vocab_size, output_layer, batch_size, keep_prob):\n",
    "    \"\"\"\n",
    "    Create a decoding layer for inference\n",
    "    :param encoder_state: Encoder state\n",
    "    :param dec_cell: Decoder RNN Cell\n",
    "    :param dec_embeddings: Decoder embeddings\n",
    "    :param start_of_sequence_id: GO ID\n",
    "    :param end_of_sequence_id: EOS Id\n",
    "    :param max_target_sequence_length: Maximum length of target sequences\n",
    "    :param vocab_size: Size of decoder/target vocabulary\n",
    "    :param decoding_scope: TenorFlow Variable Scope for decoding\n",
    "    :param output_layer: Function to apply the output layer\n",
    "    :param batch_size: Batch size\n",
    "    :param keep_prob: Dropout keep probability\n",
    "    :return: BasicDecoderOutput containing inference logits and sample_id\n",
    "    \"\"\"\n",
    "    # TODO: Implement Function\n",
    "    start_tokens = tf.tile( tf.constant( [start_of_sequence_id], dtype=tf.int32 ), [batch_size], name='start_tokens' )\n",
    "    \n",
    "    inference_helper = tf.contrib.seq2seq.GreedyEmbeddingHelper( dec_embeddings, start_tokens , end_of_sequence_id )\n",
    "    \n",
    "    inference_decoder = tf.contrib.seq2seq.BasicDecoder( dec_cell, inference_helper, encoder_state, output_layer )\n",
    "    \n",
    "    inference_decoder_ouput = tf.contrib.seq2seq.dynamic_decode( inference_decoder, \n",
    "                                                                 impute_finished=True, \n",
    "                                                                 maximum_iterations=max_target_sequence_length)[0]\n",
    "    \n",
    "    return inference_decoder_ouput\n",
    "\n",
    "\n",
    "\n",
    "\"\"\"\n",
    "DON'T MODIFY ANYTHING IN THIS CELL THAT IS BELOW THIS LINE\n",
    "\"\"\"\n",
    "tests.test_decoding_layer_infer(decoding_layer_infer)"
   ]
  },
  {
   "cell_type": "markdown",
   "metadata": {
    "deletable": true,
    "editable": true
   },
   "source": [
    "### Build the Decoding Layer\n",
    "Implement `decoding_layer()` to create a Decoder RNN layer.\n",
    "\n",
    "* Embed the target sequences\n",
    "* Construct the decoder LSTM cell (just like you constructed the encoder cell above)\n",
    "* Create an output layer to map the outputs of the decoder to the elements of our vocabulary\n",
    "* Use the your `decoding_layer_train(encoder_state, dec_cell, dec_embed_input, target_sequence_length, max_target_sequence_length, output_layer, keep_prob)` function to get the training logits.\n",
    "* Use your `decoding_layer_infer(encoder_state, dec_cell, dec_embeddings, start_of_sequence_id, end_of_sequence_id, max_target_sequence_length, vocab_size, output_layer, batch_size, keep_prob)` function to get the inference logits.\n",
    "\n",
    "Note: You'll need to use [tf.variable_scope](https://www.tensorflow.org/api_docs/python/tf/variable_scope) to share variables between training and inference."
   ]
  },
  {
   "cell_type": "code",
   "execution_count": 33,
   "metadata": {
    "collapsed": false,
    "deletable": true,
    "editable": true
   },
   "outputs": [
    {
     "name": "stdout",
     "output_type": "stream",
     "text": [
      "Tests Passed\n"
     ]
    }
   ],
   "source": [
    "def decoding_layer(dec_input, encoder_state,\n",
    "                   target_sequence_length, max_target_sequence_length,\n",
    "                   rnn_size,\n",
    "                   num_layers, target_vocab_to_int, target_vocab_size,\n",
    "                   batch_size, keep_prob, decoding_embedding_size):\n",
    "    \"\"\"\n",
    "    Create decoding layer\n",
    "    :param dec_input: Decoder input\n",
    "    :param encoder_state: Encoder state\n",
    "    :param target_sequence_length: The lengths of each sequence in the target batch\n",
    "    :param max_target_sequence_length: Maximum length of target sequences\n",
    "    :param rnn_size: RNN Size\n",
    "    :param num_layers: Number of layers\n",
    "    :param target_vocab_to_int: Dictionary to go from the target words to an id\n",
    "    :param target_vocab_size: Size of target vocabulary\n",
    "    :param batch_size: The size of the batch\n",
    "    :param keep_prob: Dropout keep probability\n",
    "    :param decoding_embedding_size: Decoding embedding size\n",
    "    :return: Tuple of (Training BasicDecoderOutput, Inference BasicDecoderOutput)\n",
    "    \"\"\"\n",
    "    # TODO: Implement Function\n",
    "    # Decoder Embedding\n",
    "    dec_embeddings = tf.Variable(tf.random_uniform([target_vocab_size, decoding_embedding_size]))\n",
    "    dec_embed_input = tf.nn.embedding_lookup( dec_embeddings, dec_input )\n",
    "    \n",
    "    # Decoder cell\n",
    "    def rnn_cell( rnn_size, keep_prob ):\n",
    "        dec_cell = tf.contrib.rnn.LSTMCell( rnn_size, initializer=tf.random_uniform_initializer(-0.1,0.1,seed=99) )\n",
    "        drop_cell = tf.contrib.rnn.DropoutWrapper( dec_cell, output_keep_prob=keep_prob ) #????\n",
    "        return drop_cell    \n",
    "    \n",
    "    dec_cell = tf.contrib.rnn.MultiRNNCell( [ rnn_cell(rnn_size, keep_prob) for _ in range (num_layers) ] )\n",
    "    \n",
    "    #Output layer\n",
    "    output_layer = Dense( target_vocab_size, \n",
    "                          kernel_initializer = tf.truncated_normal_initializer( mean=0.0, stddev=0.1 ))\n",
    "    \n",
    "    \n",
    "    with tf.variable_scope(\"decode\"): \n",
    "        training_decoder_output = decoding_layer_train(encoder_state, \n",
    "                                                       dec_cell, \n",
    "                                                       dec_embed_input, \n",
    "                                                       target_sequence_length, \n",
    "                                                       max_target_sequence_length, \n",
    "                                                       output_layer, \n",
    "                                                       keep_prob)\n",
    "    \n",
    "    with tf.variable_scope(\"decode\", reuse=True):\n",
    "        inference_decoder_ouput = decoding_layer_infer(encoder_state, \n",
    "                                                       dec_cell, \n",
    "                                                       dec_embeddings, \n",
    "                                                       target_vocab_to_int['<GO>'],  #start_of_sequence_id, \n",
    "                                                       target_vocab_to_int['<EOS>'], #end_of_sequence_id, \n",
    "                                                       max_target_sequence_length, \n",
    "                                                       target_vocab_size, \n",
    "                                                       output_layer, \n",
    "                                                       batch_size, \n",
    "                                                       keep_prob)\n",
    "    \n",
    "    return training_decoder_output, inference_decoder_ouput\n",
    "\n",
    "\n",
    "\n",
    "\"\"\"\n",
    "DON'T MODIFY ANYTHING IN THIS CELL THAT IS BELOW THIS LINE\n",
    "\"\"\"\n",
    "tests.test_decoding_layer(decoding_layer)"
   ]
  },
  {
   "cell_type": "markdown",
   "metadata": {
    "deletable": true,
    "editable": true
   },
   "source": [
    "### Build the Neural Network\n",
    "Apply the functions you implemented above to:\n",
    "\n",
    "- Encode the input using your `encoding_layer(rnn_inputs, rnn_size, num_layers, keep_prob,  source_sequence_length, source_vocab_size, encoding_embedding_size)`.\n",
    "- Process target data using your `process_decoder_input(target_data, target_vocab_to_int, batch_size)` function.\n",
    "- Decode the encoded input using your `decoding_layer(dec_input, enc_state, target_sequence_length, max_target_sentence_length, rnn_size, num_layers, target_vocab_to_int, target_vocab_size, batch_size, keep_prob, dec_embedding_size)` function."
   ]
  },
  {
   "cell_type": "code",
   "execution_count": 34,
   "metadata": {
    "collapsed": false,
    "deletable": true,
    "editable": true
   },
   "outputs": [
    {
     "name": "stdout",
     "output_type": "stream",
     "text": [
      "Tests Passed\n"
     ]
    }
   ],
   "source": [
    "def seq2seq_model(input_data, target_data, keep_prob, batch_size,\n",
    "                  source_sequence_length, target_sequence_length,\n",
    "                  max_target_sentence_length,\n",
    "                  source_vocab_size, target_vocab_size,\n",
    "                  enc_embedding_size, dec_embedding_size,\n",
    "                  rnn_size, num_layers, target_vocab_to_int):\n",
    "    \"\"\"\n",
    "    Build the Sequence-to-Sequence part of the neural network\n",
    "    :param input_data: Input placeholder\n",
    "    :param target_data: Target placeholder\n",
    "    :param keep_prob: Dropout keep probability placeholder\n",
    "    :param batch_size: Batch Size\n",
    "    :param source_sequence_length: Sequence Lengths of source sequences in the batch\n",
    "    :param target_sequence_length: Sequence Lengths of target sequences in the batch\n",
    "    :param source_vocab_size: Source vocabulary size\n",
    "    :param target_vocab_size: Target vocabulary size\n",
    "    :param enc_embedding_size: Decoder embedding size\n",
    "    :param dec_embedding_size: Encoder embedding size\n",
    "    :param rnn_size: RNN Size\n",
    "    :param num_layers: Number of layers\n",
    "    :param target_vocab_to_int: Dictionary to go from the target words to an id\n",
    "    :return: Tuple of (Training BasicDecoderOutput, Inference BasicDecoderOutput)\n",
    "    \"\"\"\n",
    "    # TODO: Implement Function\n",
    "    # Encode input data\n",
    "    enc_ouput, enc_state = encoding_layer(input_data, \n",
    "                                          rnn_size, \n",
    "                                          num_layers, \n",
    "                                          keep_prob,  \n",
    "                                          source_sequence_length, \n",
    "                                          source_vocab_size, \n",
    "                                          enc_embedding_size)\n",
    "    \n",
    "    # Process input to decoder (training)\n",
    "    dec_input = process_decoder_input(target_data, target_vocab_to_int, batch_size)\n",
    "    \n",
    "    # Pass encoder state and inputs to the decoders (training and inference)\n",
    "    training_decoder_output, inference_decoder_ouput = decoding_layer(dec_input, \n",
    "                                                                      enc_state, \n",
    "                                                                      target_sequence_length, \n",
    "                                                                      max_target_sentence_length, \n",
    "                                                                      rnn_size, \n",
    "                                                                      num_layers, \n",
    "                                                                      target_vocab_to_int, \n",
    "                                                                      target_vocab_size, \n",
    "                                                                      batch_size, \n",
    "                                                                      keep_prob, \n",
    "                                                                      dec_embedding_size)\n",
    "    \n",
    "    return training_decoder_output, inference_decoder_ouput\n",
    "\n",
    "\n",
    "\"\"\"\n",
    "DON'T MODIFY ANYTHING IN THIS CELL THAT IS BELOW THIS LINE\n",
    "\"\"\"\n",
    "tests.test_seq2seq_model(seq2seq_model)"
   ]
  },
  {
   "cell_type": "markdown",
   "metadata": {
    "deletable": true,
    "editable": true
   },
   "source": [
    "## Neural Network Training\n",
    "### Hyperparameters\n",
    "Tune the following parameters:\n",
    "\n",
    "- Set `epochs` to the number of epochs.\n",
    "- Set `batch_size` to the batch size.\n",
    "- Set `rnn_size` to the size of the RNNs.\n",
    "- Set `num_layers` to the number of layers.\n",
    "- Set `encoding_embedding_size` to the size of the embedding for the encoder.\n",
    "- Set `decoding_embedding_size` to the size of the embedding for the decoder.\n",
    "- Set `learning_rate` to the learning rate.\n",
    "- Set `keep_probability` to the Dropout keep probability\n",
    "- Set `display_step` to state how many steps between each debug output statement"
   ]
  },
  {
   "cell_type": "code",
   "execution_count": 35,
   "metadata": {
    "collapsed": true,
    "deletable": true,
    "editable": true
   },
   "outputs": [],
   "source": [
    "# Number of Epochs\n",
    "epochs = 20\n",
    "# Batch Size\n",
    "batch_size = 512\n",
    "# RNN Size\n",
    "rnn_size = 256\n",
    "# Number of Layers\n",
    "num_layers = 1\n",
    "# Embedding Size\n",
    "encoding_embedding_size = 200\n",
    "decoding_embedding_size = 200\n",
    "# Learning Rate\n",
    "learning_rate = 0.01\n",
    "# Dropout Keep Probability\n",
    "keep_probability = 0.7\n",
    "display_step = 20"
   ]
  },
  {
   "cell_type": "markdown",
   "metadata": {
    "deletable": true,
    "editable": true
   },
   "source": [
    "### Build the Graph\n",
    "Build the graph using the neural network you implemented."
   ]
  },
  {
   "cell_type": "code",
   "execution_count": 36,
   "metadata": {
    "collapsed": true,
    "deletable": true,
    "editable": true
   },
   "outputs": [],
   "source": [
    "\"\"\"\n",
    "DON'T MODIFY ANYTHING IN THIS CELL\n",
    "\"\"\"\n",
    "save_path = 'checkpoints/dev'\n",
    "(source_int_text, target_int_text), (source_vocab_to_int, target_vocab_to_int), _ = helper.load_preprocess()\n",
    "max_target_sentence_length = max([len(sentence) for sentence in source_int_text])\n",
    "\n",
    "train_graph = tf.Graph()\n",
    "with train_graph.as_default():\n",
    "    input_data, targets, lr, keep_prob, target_sequence_length, max_target_sequence_length, source_sequence_length = model_inputs()\n",
    "\n",
    "    #sequence_length = tf.placeholder_with_default(max_target_sentence_length, None, name='sequence_length')\n",
    "    input_shape = tf.shape(input_data)\n",
    "\n",
    "    train_logits, inference_logits = seq2seq_model(tf.reverse(input_data, [-1]),\n",
    "                                                   targets,\n",
    "                                                   keep_prob,\n",
    "                                                   batch_size,\n",
    "                                                   source_sequence_length,\n",
    "                                                   target_sequence_length,\n",
    "                                                   max_target_sequence_length,\n",
    "                                                   len(source_vocab_to_int),\n",
    "                                                   len(target_vocab_to_int),\n",
    "                                                   encoding_embedding_size,\n",
    "                                                   decoding_embedding_size,\n",
    "                                                   rnn_size,\n",
    "                                                   num_layers,\n",
    "                                                   target_vocab_to_int)\n",
    "\n",
    "\n",
    "    training_logits = tf.identity(train_logits.rnn_output, name='logits')\n",
    "    inference_logits = tf.identity(inference_logits.sample_id, name='predictions')\n",
    "\n",
    "    masks = tf.sequence_mask(target_sequence_length, max_target_sequence_length, dtype=tf.float32, name='masks')\n",
    "\n",
    "    with tf.name_scope(\"optimization\"):\n",
    "        # Loss function\n",
    "        cost = tf.contrib.seq2seq.sequence_loss(\n",
    "            training_logits,\n",
    "            targets,\n",
    "            masks)\n",
    "\n",
    "        # Optimizer\n",
    "        optimizer = tf.train.AdamOptimizer(lr)\n",
    "\n",
    "        # Gradient Clipping\n",
    "        gradients = optimizer.compute_gradients(cost)\n",
    "        capped_gradients = [(tf.clip_by_value(grad, -1., 1.), var) for grad, var in gradients if grad is not None]\n",
    "        train_op = optimizer.apply_gradients(capped_gradients)\n"
   ]
  },
  {
   "cell_type": "markdown",
   "metadata": {
    "deletable": true,
    "editable": true
   },
   "source": [
    "Batch and pad the source and target sequences"
   ]
  },
  {
   "cell_type": "code",
   "execution_count": 37,
   "metadata": {
    "collapsed": true,
    "deletable": true,
    "editable": true
   },
   "outputs": [],
   "source": [
    "\"\"\"\n",
    "DON'T MODIFY ANYTHING IN THIS CELL\n",
    "\"\"\"\n",
    "def pad_sentence_batch(sentence_batch, pad_int):\n",
    "    \"\"\"Pad sentences with <PAD> so that each sentence of a batch has the same length\"\"\"\n",
    "    max_sentence = max([len(sentence) for sentence in sentence_batch])\n",
    "    return [sentence + [pad_int] * (max_sentence - len(sentence)) for sentence in sentence_batch]\n",
    "\n",
    "\n",
    "def get_batches(sources, targets, batch_size, source_pad_int, target_pad_int):\n",
    "    \"\"\"Batch targets, sources, and the lengths of their sentences together\"\"\"\n",
    "    for batch_i in range(0, len(sources)//batch_size):\n",
    "        start_i = batch_i * batch_size\n",
    "\n",
    "        # Slice the right amount for the batch\n",
    "        sources_batch = sources[start_i:start_i + batch_size]\n",
    "        targets_batch = targets[start_i:start_i + batch_size]\n",
    "\n",
    "        # Pad\n",
    "        pad_sources_batch = np.array(pad_sentence_batch(sources_batch, source_pad_int))\n",
    "        pad_targets_batch = np.array(pad_sentence_batch(targets_batch, target_pad_int))\n",
    "\n",
    "        # Need the lengths for the _lengths parameters\n",
    "        pad_targets_lengths = []\n",
    "        for target in pad_targets_batch:\n",
    "            pad_targets_lengths.append(len(target))\n",
    "\n",
    "        pad_source_lengths = []\n",
    "        for source in pad_sources_batch:\n",
    "            pad_source_lengths.append(len(source))\n",
    "\n",
    "        yield pad_sources_batch, pad_targets_batch, pad_source_lengths, pad_targets_lengths\n"
   ]
  },
  {
   "cell_type": "markdown",
   "metadata": {
    "deletable": true,
    "editable": true
   },
   "source": [
    "### Train\n",
    "Train the neural network on the preprocessed data. If you have a hard time getting a good loss, check the forms to see if anyone is having the same problem."
   ]
  },
  {
   "cell_type": "code",
   "execution_count": 38,
   "metadata": {
    "collapsed": false,
    "deletable": true,
    "editable": true,
    "scrolled": true
   },
   "outputs": [
    {
     "name": "stdout",
     "output_type": "stream",
     "text": [
      "Epoch   0 Batch   20/269 - Train Accuracy: 0.3572, Validation Accuracy: 0.4142, Loss: 2.1619\n",
      "Epoch   0 Batch   40/269 - Train Accuracy: 0.4627, Validation Accuracy: 0.4908, Loss: 1.1107\n",
      "Epoch   0 Batch   60/269 - Train Accuracy: 0.5364, Validation Accuracy: 0.5318, Loss: 0.7889\n",
      "Epoch   0 Batch   80/269 - Train Accuracy: 0.5660, Validation Accuracy: 0.5668, Loss: 0.6943\n",
      "Epoch   0 Batch  100/269 - Train Accuracy: 0.6551, Validation Accuracy: 0.6373, Loss: 0.6004\n",
      "Epoch   0 Batch  120/269 - Train Accuracy: 0.6518, Validation Accuracy: 0.7011, Loss: 0.5640\n",
      "Epoch   0 Batch  140/269 - Train Accuracy: 0.7213, Validation Accuracy: 0.7308, Loss: 0.4747\n",
      "Epoch   0 Batch  160/269 - Train Accuracy: 0.7413, Validation Accuracy: 0.7631, Loss: 0.4218\n",
      "Epoch   0 Batch  180/269 - Train Accuracy: 0.7688, Validation Accuracy: 0.7710, Loss: 0.3619\n",
      "Epoch   0 Batch  200/269 - Train Accuracy: 0.7947, Validation Accuracy: 0.7951, Loss: 0.3425\n",
      "Epoch   0 Batch  220/269 - Train Accuracy: 0.8121, Validation Accuracy: 0.8122, Loss: 0.2882\n",
      "Epoch   0 Batch  240/269 - Train Accuracy: 0.8380, Validation Accuracy: 0.8183, Loss: 0.2464\n",
      "Epoch   0 Batch  260/269 - Train Accuracy: 0.8193, Validation Accuracy: 0.8333, Loss: 0.2499\n",
      "Epoch   1 Batch   20/269 - Train Accuracy: 0.8600, Validation Accuracy: 0.8469, Loss: 0.2180\n",
      "Epoch   1 Batch   40/269 - Train Accuracy: 0.8656, Validation Accuracy: 0.8678, Loss: 0.2064\n",
      "Epoch   1 Batch   60/269 - Train Accuracy: 0.8768, Validation Accuracy: 0.8843, Loss: 0.1714\n",
      "Epoch   1 Batch   80/269 - Train Accuracy: 0.8924, Validation Accuracy: 0.8770, Loss: 0.1541\n",
      "Epoch   1 Batch  100/269 - Train Accuracy: 0.9024, Validation Accuracy: 0.8825, Loss: 0.1417\n",
      "Epoch   1 Batch  120/269 - Train Accuracy: 0.9070, Validation Accuracy: 0.8975, Loss: 0.1382\n",
      "Epoch   1 Batch  140/269 - Train Accuracy: 0.8967, Validation Accuracy: 0.9013, Loss: 0.1328\n",
      "Epoch   1 Batch  160/269 - Train Accuracy: 0.9015, Validation Accuracy: 0.9171, Loss: 0.1118\n",
      "Epoch   1 Batch  180/269 - Train Accuracy: 0.9262, Validation Accuracy: 0.9215, Loss: 0.1011\n",
      "Epoch   1 Batch  200/269 - Train Accuracy: 0.9428, Validation Accuracy: 0.9294, Loss: 0.0956\n",
      "Epoch   1 Batch  220/269 - Train Accuracy: 0.9311, Validation Accuracy: 0.9286, Loss: 0.0878\n",
      "Epoch   1 Batch  240/269 - Train Accuracy: 0.9328, Validation Accuracy: 0.9304, Loss: 0.0790\n",
      "Epoch   1 Batch  260/269 - Train Accuracy: 0.9250, Validation Accuracy: 0.9321, Loss: 0.0827\n",
      "Epoch   2 Batch   20/269 - Train Accuracy: 0.9313, Validation Accuracy: 0.9380, Loss: 0.0704\n",
      "Epoch   2 Batch   40/269 - Train Accuracy: 0.9423, Validation Accuracy: 0.9405, Loss: 0.0731\n",
      "Epoch   2 Batch   60/269 - Train Accuracy: 0.9335, Validation Accuracy: 0.9460, Loss: 0.0661\n",
      "Epoch   2 Batch   80/269 - Train Accuracy: 0.9463, Validation Accuracy: 0.9483, Loss: 0.0624\n",
      "Epoch   2 Batch  100/269 - Train Accuracy: 0.9546, Validation Accuracy: 0.9424, Loss: 0.0566\n",
      "Epoch   2 Batch  120/269 - Train Accuracy: 0.9478, Validation Accuracy: 0.9381, Loss: 0.0602\n",
      "Epoch   2 Batch  140/269 - Train Accuracy: 0.9470, Validation Accuracy: 0.9466, Loss: 0.0617\n",
      "Epoch   2 Batch  160/269 - Train Accuracy: 0.9497, Validation Accuracy: 0.9581, Loss: 0.0518\n",
      "Epoch   2 Batch  180/269 - Train Accuracy: 0.9552, Validation Accuracy: 0.9542, Loss: 0.0500\n",
      "Epoch   2 Batch  200/269 - Train Accuracy: 0.9448, Validation Accuracy: 0.9426, Loss: 0.0495\n",
      "Epoch   2 Batch  220/269 - Train Accuracy: 0.9556, Validation Accuracy: 0.9617, Loss: 0.0490\n",
      "Epoch   2 Batch  240/269 - Train Accuracy: 0.9633, Validation Accuracy: 0.9539, Loss: 0.0432\n",
      "Epoch   2 Batch  260/269 - Train Accuracy: 0.9541, Validation Accuracy: 0.9593, Loss: 0.0456\n",
      "Epoch   3 Batch   20/269 - Train Accuracy: 0.9643, Validation Accuracy: 0.9553, Loss: 0.0443\n",
      "Epoch   3 Batch   40/269 - Train Accuracy: 0.9548, Validation Accuracy: 0.9536, Loss: 0.0482\n",
      "Epoch   3 Batch   60/269 - Train Accuracy: 0.9520, Validation Accuracy: 0.9645, Loss: 0.0387\n",
      "Epoch   3 Batch   80/269 - Train Accuracy: 0.9554, Validation Accuracy: 0.9565, Loss: 0.0422\n",
      "Epoch   3 Batch  100/269 - Train Accuracy: 0.9596, Validation Accuracy: 0.9554, Loss: 0.0388\n",
      "Epoch   3 Batch  120/269 - Train Accuracy: 0.9545, Validation Accuracy: 0.9549, Loss: 0.0410\n",
      "Epoch   3 Batch  140/269 - Train Accuracy: 0.9628, Validation Accuracy: 0.9622, Loss: 0.0438\n",
      "Epoch   3 Batch  160/269 - Train Accuracy: 0.9655, Validation Accuracy: 0.9664, Loss: 0.0327\n",
      "Epoch   3 Batch  180/269 - Train Accuracy: 0.9672, Validation Accuracy: 0.9645, Loss: 0.0316\n",
      "Epoch   3 Batch  200/269 - Train Accuracy: 0.9658, Validation Accuracy: 0.9614, Loss: 0.0368\n",
      "Epoch   3 Batch  220/269 - Train Accuracy: 0.9624, Validation Accuracy: 0.9656, Loss: 0.0329\n",
      "Epoch   3 Batch  240/269 - Train Accuracy: 0.9712, Validation Accuracy: 0.9714, Loss: 0.0326\n",
      "Epoch   3 Batch  260/269 - Train Accuracy: 0.9666, Validation Accuracy: 0.9613, Loss: 0.0324\n",
      "Epoch   4 Batch   20/269 - Train Accuracy: 0.9655, Validation Accuracy: 0.9585, Loss: 0.0298\n",
      "Epoch   4 Batch   40/269 - Train Accuracy: 0.9699, Validation Accuracy: 0.9560, Loss: 0.0368\n",
      "Epoch   4 Batch   60/269 - Train Accuracy: 0.9708, Validation Accuracy: 0.9684, Loss: 0.0337\n",
      "Epoch   4 Batch   80/269 - Train Accuracy: 0.9620, Validation Accuracy: 0.9648, Loss: 0.0334\n",
      "Epoch   4 Batch  100/269 - Train Accuracy: 0.9639, Validation Accuracy: 0.9583, Loss: 0.0294\n",
      "Epoch   4 Batch  120/269 - Train Accuracy: 0.9606, Validation Accuracy: 0.9663, Loss: 0.0308\n",
      "Epoch   4 Batch  140/269 - Train Accuracy: 0.9707, Validation Accuracy: 0.9748, Loss: 0.0323\n",
      "Epoch   4 Batch  160/269 - Train Accuracy: 0.9711, Validation Accuracy: 0.9655, Loss: 0.0271\n",
      "Epoch   4 Batch  180/269 - Train Accuracy: 0.9707, Validation Accuracy: 0.9709, Loss: 0.0289\n",
      "Epoch   4 Batch  200/269 - Train Accuracy: 0.9798, Validation Accuracy: 0.9688, Loss: 0.0255\n",
      "Epoch   4 Batch  220/269 - Train Accuracy: 0.9667, Validation Accuracy: 0.9668, Loss: 0.0272\n",
      "Epoch   4 Batch  240/269 - Train Accuracy: 0.9759, Validation Accuracy: 0.9727, Loss: 0.0284\n",
      "Epoch   4 Batch  260/269 - Train Accuracy: 0.9671, Validation Accuracy: 0.9696, Loss: 0.0282\n",
      "Epoch   5 Batch   20/269 - Train Accuracy: 0.9683, Validation Accuracy: 0.9664, Loss: 0.0294\n",
      "Epoch   5 Batch   40/269 - Train Accuracy: 0.9645, Validation Accuracy: 0.9602, Loss: 0.0290\n",
      "Epoch   5 Batch   60/269 - Train Accuracy: 0.9744, Validation Accuracy: 0.9688, Loss: 0.0290\n",
      "Epoch   5 Batch   80/269 - Train Accuracy: 0.9699, Validation Accuracy: 0.9702, Loss: 0.0258\n",
      "Epoch   5 Batch  100/269 - Train Accuracy: 0.9740, Validation Accuracy: 0.9732, Loss: 0.0259\n",
      "Epoch   5 Batch  120/269 - Train Accuracy: 0.9633, Validation Accuracy: 0.9732, Loss: 0.0295\n",
      "Epoch   5 Batch  140/269 - Train Accuracy: 0.9743, Validation Accuracy: 0.9744, Loss: 0.0327\n",
      "Epoch   5 Batch  160/269 - Train Accuracy: 0.9784, Validation Accuracy: 0.9726, Loss: 0.0226\n",
      "Epoch   5 Batch  180/269 - Train Accuracy: 0.9786, Validation Accuracy: 0.9717, Loss: 0.0227\n",
      "Epoch   5 Batch  200/269 - Train Accuracy: 0.9799, Validation Accuracy: 0.9752, Loss: 0.0210\n",
      "Epoch   5 Batch  220/269 - Train Accuracy: 0.9746, Validation Accuracy: 0.9675, Loss: 0.0213\n",
      "Epoch   5 Batch  240/269 - Train Accuracy: 0.9749, Validation Accuracy: 0.9711, Loss: 0.0243\n",
      "Epoch   5 Batch  260/269 - Train Accuracy: 0.9778, Validation Accuracy: 0.9614, Loss: 0.0243\n",
      "Epoch   6 Batch   20/269 - Train Accuracy: 0.9749, Validation Accuracy: 0.9705, Loss: 0.0250\n",
      "Epoch   6 Batch   40/269 - Train Accuracy: 0.9752, Validation Accuracy: 0.9696, Loss: 0.0253\n",
      "Epoch   6 Batch   60/269 - Train Accuracy: 0.9743, Validation Accuracy: 0.9724, Loss: 0.0292\n",
      "Epoch   6 Batch   80/269 - Train Accuracy: 0.9723, Validation Accuracy: 0.9735, Loss: 0.0253\n",
      "Epoch   6 Batch  100/269 - Train Accuracy: 0.9764, Validation Accuracy: 0.9663, Loss: 0.0227\n",
      "Epoch   6 Batch  120/269 - Train Accuracy: 0.9670, Validation Accuracy: 0.9676, Loss: 0.0247\n",
      "Epoch   6 Batch  140/269 - Train Accuracy: 0.9681, Validation Accuracy: 0.9734, Loss: 0.0293\n",
      "Epoch   6 Batch  160/269 - Train Accuracy: 0.9799, Validation Accuracy: 0.9711, Loss: 0.0188\n",
      "Epoch   6 Batch  180/269 - Train Accuracy: 0.9753, Validation Accuracy: 0.9687, Loss: 0.0191\n",
      "Epoch   6 Batch  200/269 - Train Accuracy: 0.9824, Validation Accuracy: 0.9753, Loss: 0.0184\n",
      "Epoch   6 Batch  220/269 - Train Accuracy: 0.9727, Validation Accuracy: 0.9703, Loss: 0.0205\n",
      "Epoch   6 Batch  240/269 - Train Accuracy: 0.9779, Validation Accuracy: 0.9786, Loss: 0.0199\n",
      "Epoch   6 Batch  260/269 - Train Accuracy: 0.9780, Validation Accuracy: 0.9711, Loss: 0.0214\n",
      "Epoch   7 Batch   20/269 - Train Accuracy: 0.9774, Validation Accuracy: 0.9683, Loss: 0.0190\n",
      "Epoch   7 Batch   40/269 - Train Accuracy: 0.9710, Validation Accuracy: 0.9730, Loss: 0.0266\n",
      "Epoch   7 Batch   60/269 - Train Accuracy: 0.9703, Validation Accuracy: 0.9728, Loss: 0.0247\n",
      "Epoch   7 Batch   80/269 - Train Accuracy: 0.9704, Validation Accuracy: 0.9749, Loss: 0.0177\n",
      "Epoch   7 Batch  100/269 - Train Accuracy: 0.9738, Validation Accuracy: 0.9683, Loss: 0.0218\n",
      "Epoch   7 Batch  120/269 - Train Accuracy: 0.9758, Validation Accuracy: 0.9742, Loss: 0.0241\n",
      "Epoch   7 Batch  140/269 - Train Accuracy: 0.9726, Validation Accuracy: 0.9777, Loss: 0.0261\n",
      "Epoch   7 Batch  160/269 - Train Accuracy: 0.9805, Validation Accuracy: 0.9769, Loss: 0.0174\n",
      "Epoch   7 Batch  180/269 - Train Accuracy: 0.9767, Validation Accuracy: 0.9674, Loss: 0.0209\n",
      "Epoch   7 Batch  200/269 - Train Accuracy: 0.9850, Validation Accuracy: 0.9742, Loss: 0.0162\n",
      "Epoch   7 Batch  220/269 - Train Accuracy: 0.9755, Validation Accuracy: 0.9733, Loss: 0.0197\n",
      "Epoch   7 Batch  240/269 - Train Accuracy: 0.9826, Validation Accuracy: 0.9779, Loss: 0.0210\n",
      "Epoch   7 Batch  260/269 - Train Accuracy: 0.9740, Validation Accuracy: 0.9652, Loss: 0.0216\n",
      "Epoch   8 Batch   20/269 - Train Accuracy: 0.9801, Validation Accuracy: 0.9703, Loss: 0.0207\n",
      "Epoch   8 Batch   40/269 - Train Accuracy: 0.9748, Validation Accuracy: 0.9682, Loss: 0.0230\n",
      "Epoch   8 Batch   60/269 - Train Accuracy: 0.9735, Validation Accuracy: 0.9739, Loss: 0.0231\n",
      "Epoch   8 Batch   80/269 - Train Accuracy: 0.9748, Validation Accuracy: 0.9697, Loss: 0.0190\n",
      "Epoch   8 Batch  100/269 - Train Accuracy: 0.9772, Validation Accuracy: 0.9697, Loss: 0.0230\n",
      "Epoch   8 Batch  120/269 - Train Accuracy: 0.9687, Validation Accuracy: 0.9755, Loss: 0.0222\n",
      "Epoch   8 Batch  140/269 - Train Accuracy: 0.9768, Validation Accuracy: 0.9736, Loss: 0.0240\n",
      "Epoch   8 Batch  160/269 - Train Accuracy: 0.9820, Validation Accuracy: 0.9725, Loss: 0.0183\n",
      "Epoch   8 Batch  180/269 - Train Accuracy: 0.9763, Validation Accuracy: 0.9703, Loss: 0.0185\n",
      "Epoch   8 Batch  200/269 - Train Accuracy: 0.9825, Validation Accuracy: 0.9716, Loss: 0.0197\n",
      "Epoch   8 Batch  220/269 - Train Accuracy: 0.9727, Validation Accuracy: 0.9731, Loss: 0.0222\n",
      "Epoch   8 Batch  240/269 - Train Accuracy: 0.9741, Validation Accuracy: 0.9773, Loss: 0.0211\n",
      "Epoch   8 Batch  260/269 - Train Accuracy: 0.9815, Validation Accuracy: 0.9745, Loss: 0.0201\n",
      "Epoch   9 Batch   20/269 - Train Accuracy: 0.9729, Validation Accuracy: 0.9767, Loss: 0.0210\n",
      "Epoch   9 Batch   40/269 - Train Accuracy: 0.9734, Validation Accuracy: 0.9709, Loss: 0.0212\n",
      "Epoch   9 Batch   60/269 - Train Accuracy: 0.9774, Validation Accuracy: 0.9775, Loss: 0.0231\n",
      "Epoch   9 Batch   80/269 - Train Accuracy: 0.9770, Validation Accuracy: 0.9698, Loss: 0.0187\n",
      "Epoch   9 Batch  100/269 - Train Accuracy: 0.9767, Validation Accuracy: 0.9674, Loss: 0.0218\n",
      "Epoch   9 Batch  120/269 - Train Accuracy: 0.9753, Validation Accuracy: 0.9721, Loss: 0.0228\n",
      "Epoch   9 Batch  140/269 - Train Accuracy: 0.9739, Validation Accuracy: 0.9816, Loss: 0.0236\n",
      "Epoch   9 Batch  160/269 - Train Accuracy: 0.9816, Validation Accuracy: 0.9657, Loss: 0.0176\n",
      "Epoch   9 Batch  180/269 - Train Accuracy: 0.9778, Validation Accuracy: 0.9740, Loss: 0.0207\n",
      "Epoch   9 Batch  200/269 - Train Accuracy: 0.9844, Validation Accuracy: 0.9732, Loss: 0.0164\n",
      "Epoch   9 Batch  220/269 - Train Accuracy: 0.9730, Validation Accuracy: 0.9645, Loss: 0.0212\n",
      "Epoch   9 Batch  240/269 - Train Accuracy: 0.9794, Validation Accuracy: 0.9697, Loss: 0.0176\n",
      "Epoch   9 Batch  260/269 - Train Accuracy: 0.9829, Validation Accuracy: 0.9771, Loss: 0.0206\n",
      "Epoch  10 Batch   20/269 - Train Accuracy: 0.9798, Validation Accuracy: 0.9732, Loss: 0.0185\n",
      "Epoch  10 Batch   40/269 - Train Accuracy: 0.9772, Validation Accuracy: 0.9739, Loss: 0.0228\n",
      "Epoch  10 Batch   60/269 - Train Accuracy: 0.9791, Validation Accuracy: 0.9690, Loss: 0.0223\n",
      "Epoch  10 Batch   80/269 - Train Accuracy: 0.9823, Validation Accuracy: 0.9722, Loss: 0.0188\n",
      "Epoch  10 Batch  100/269 - Train Accuracy: 0.9795, Validation Accuracy: 0.9734, Loss: 0.0218\n",
      "Epoch  10 Batch  120/269 - Train Accuracy: 0.9756, Validation Accuracy: 0.9703, Loss: 0.0228\n",
      "Epoch  10 Batch  140/269 - Train Accuracy: 0.9732, Validation Accuracy: 0.9749, Loss: 0.0218\n",
      "Epoch  10 Batch  160/269 - Train Accuracy: 0.9859, Validation Accuracy: 0.9750, Loss: 0.0173\n",
      "Epoch  10 Batch  180/269 - Train Accuracy: 0.9763, Validation Accuracy: 0.9725, Loss: 0.0181\n",
      "Epoch  10 Batch  200/269 - Train Accuracy: 0.9837, Validation Accuracy: 0.9697, Loss: 0.0166\n",
      "Epoch  10 Batch  220/269 - Train Accuracy: 0.9696, Validation Accuracy: 0.9659, Loss: 0.0230\n",
      "Epoch  10 Batch  240/269 - Train Accuracy: 0.9772, Validation Accuracy: 0.9767, Loss: 0.0178\n",
      "Epoch  10 Batch  260/269 - Train Accuracy: 0.9815, Validation Accuracy: 0.9684, Loss: 0.0195\n",
      "Epoch  11 Batch   20/269 - Train Accuracy: 0.9803, Validation Accuracy: 0.9718, Loss: 0.0202\n",
      "Epoch  11 Batch   40/269 - Train Accuracy: 0.9782, Validation Accuracy: 0.9706, Loss: 0.0184\n",
      "Epoch  11 Batch   60/269 - Train Accuracy: 0.9794, Validation Accuracy: 0.9711, Loss: 0.0193\n",
      "Epoch  11 Batch   80/269 - Train Accuracy: 0.9779, Validation Accuracy: 0.9724, Loss: 0.0211\n",
      "Epoch  11 Batch  100/269 - Train Accuracy: 0.9789, Validation Accuracy: 0.9769, Loss: 0.0202\n",
      "Epoch  11 Batch  120/269 - Train Accuracy: 0.9696, Validation Accuracy: 0.9782, Loss: 0.0196\n",
      "Epoch  11 Batch  140/269 - Train Accuracy: 0.9750, Validation Accuracy: 0.9792, Loss: 0.0218\n",
      "Epoch  11 Batch  160/269 - Train Accuracy: 0.9835, Validation Accuracy: 0.9732, Loss: 0.0150\n",
      "Epoch  11 Batch  180/269 - Train Accuracy: 0.9813, Validation Accuracy: 0.9727, Loss: 0.0205\n",
      "Epoch  11 Batch  200/269 - Train Accuracy: 0.9853, Validation Accuracy: 0.9782, Loss: 0.0134\n",
      "Epoch  11 Batch  220/269 - Train Accuracy: 0.9783, Validation Accuracy: 0.9727, Loss: 0.0174\n",
      "Epoch  11 Batch  240/269 - Train Accuracy: 0.9778, Validation Accuracy: 0.9790, Loss: 0.0191\n",
      "Epoch  11 Batch  260/269 - Train Accuracy: 0.9787, Validation Accuracy: 0.9693, Loss: 0.0162\n",
      "Epoch  12 Batch   20/269 - Train Accuracy: 0.9803, Validation Accuracy: 0.9827, Loss: 0.0180\n",
      "Epoch  12 Batch   40/269 - Train Accuracy: 0.9780, Validation Accuracy: 0.9771, Loss: 0.0184\n",
      "Epoch  12 Batch   60/269 - Train Accuracy: 0.9751, Validation Accuracy: 0.9774, Loss: 0.0193\n",
      "Epoch  12 Batch   80/269 - Train Accuracy: 0.9855, Validation Accuracy: 0.9748, Loss: 0.0175\n",
      "Epoch  12 Batch  100/269 - Train Accuracy: 0.9830, Validation Accuracy: 0.9716, Loss: 0.0172\n",
      "Epoch  12 Batch  120/269 - Train Accuracy: 0.9718, Validation Accuracy: 0.9726, Loss: 0.0212\n",
      "Epoch  12 Batch  140/269 - Train Accuracy: 0.9721, Validation Accuracy: 0.9793, Loss: 0.0218\n",
      "Epoch  12 Batch  160/269 - Train Accuracy: 0.9893, Validation Accuracy: 0.9698, Loss: 0.0173\n",
      "Epoch  12 Batch  180/269 - Train Accuracy: 0.9826, Validation Accuracy: 0.9733, Loss: 0.0162\n",
      "Epoch  12 Batch  200/269 - Train Accuracy: 0.9831, Validation Accuracy: 0.9702, Loss: 0.0169\n",
      "Epoch  12 Batch  220/269 - Train Accuracy: 0.9738, Validation Accuracy: 0.9647, Loss: 0.0156\n",
      "Epoch  12 Batch  240/269 - Train Accuracy: 0.9784, Validation Accuracy: 0.9650, Loss: 0.0157\n",
      "Epoch  12 Batch  260/269 - Train Accuracy: 0.9869, Validation Accuracy: 0.9747, Loss: 0.0167\n",
      "Epoch  13 Batch   20/269 - Train Accuracy: 0.9795, Validation Accuracy: 0.9769, Loss: 0.0174\n",
      "Epoch  13 Batch   40/269 - Train Accuracy: 0.9765, Validation Accuracy: 0.9768, Loss: 0.0182\n",
      "Epoch  13 Batch   60/269 - Train Accuracy: 0.9711, Validation Accuracy: 0.9746, Loss: 0.0234\n",
      "Epoch  13 Batch   80/269 - Train Accuracy: 0.9847, Validation Accuracy: 0.9783, Loss: 0.0151\n",
      "Epoch  13 Batch  100/269 - Train Accuracy: 0.9768, Validation Accuracy: 0.9729, Loss: 0.0201\n",
      "Epoch  13 Batch  120/269 - Train Accuracy: 0.9721, Validation Accuracy: 0.9793, Loss: 0.0236\n",
      "Epoch  13 Batch  140/269 - Train Accuracy: 0.9764, Validation Accuracy: 0.9825, Loss: 0.0212\n",
      "Epoch  13 Batch  160/269 - Train Accuracy: 0.9791, Validation Accuracy: 0.9746, Loss: 0.0171\n",
      "Epoch  13 Batch  180/269 - Train Accuracy: 0.9796, Validation Accuracy: 0.9798, Loss: 0.0201\n",
      "Epoch  13 Batch  200/269 - Train Accuracy: 0.9880, Validation Accuracy: 0.9758, Loss: 0.0187\n",
      "Epoch  13 Batch  220/269 - Train Accuracy: 0.9722, Validation Accuracy: 0.9751, Loss: 0.0211\n",
      "Epoch  13 Batch  240/269 - Train Accuracy: 0.9797, Validation Accuracy: 0.9788, Loss: 0.0169\n",
      "Epoch  13 Batch  260/269 - Train Accuracy: 0.9856, Validation Accuracy: 0.9769, Loss: 0.0154\n",
      "Epoch  14 Batch   20/269 - Train Accuracy: 0.9840, Validation Accuracy: 0.9758, Loss: 0.0175\n",
      "Epoch  14 Batch   40/269 - Train Accuracy: 0.9738, Validation Accuracy: 0.9767, Loss: 0.0194\n",
      "Epoch  14 Batch   60/269 - Train Accuracy: 0.9720, Validation Accuracy: 0.9768, Loss: 0.0210\n",
      "Epoch  14 Batch   80/269 - Train Accuracy: 0.9840, Validation Accuracy: 0.9775, Loss: 0.0206\n",
      "Epoch  14 Batch  100/269 - Train Accuracy: 0.9750, Validation Accuracy: 0.9767, Loss: 0.0202\n",
      "Epoch  14 Batch  120/269 - Train Accuracy: 0.9730, Validation Accuracy: 0.9738, Loss: 0.0197\n",
      "Epoch  14 Batch  140/269 - Train Accuracy: 0.9781, Validation Accuracy: 0.9758, Loss: 0.0202\n",
      "Epoch  14 Batch  160/269 - Train Accuracy: 0.9832, Validation Accuracy: 0.9722, Loss: 0.0170\n",
      "Epoch  14 Batch  180/269 - Train Accuracy: 0.9797, Validation Accuracy: 0.9742, Loss: 0.0187\n",
      "Epoch  14 Batch  200/269 - Train Accuracy: 0.9902, Validation Accuracy: 0.9785, Loss: 0.0170\n",
      "Epoch  14 Batch  220/269 - Train Accuracy: 0.9774, Validation Accuracy: 0.9775, Loss: 0.0203\n",
      "Epoch  14 Batch  240/269 - Train Accuracy: 0.9752, Validation Accuracy: 0.9780, Loss: 0.0165\n",
      "Epoch  14 Batch  260/269 - Train Accuracy: 0.9877, Validation Accuracy: 0.9692, Loss: 0.0188\n",
      "Epoch  15 Batch   20/269 - Train Accuracy: 0.9794, Validation Accuracy: 0.9763, Loss: 0.0171\n",
      "Epoch  15 Batch   40/269 - Train Accuracy: 0.9789, Validation Accuracy: 0.9777, Loss: 0.0194\n",
      "Epoch  15 Batch   60/269 - Train Accuracy: 0.9739, Validation Accuracy: 0.9755, Loss: 0.0189\n",
      "Epoch  15 Batch   80/269 - Train Accuracy: 0.9777, Validation Accuracy: 0.9661, Loss: 0.0194\n",
      "Epoch  15 Batch  100/269 - Train Accuracy: 0.9775, Validation Accuracy: 0.9703, Loss: 0.0196\n",
      "Epoch  15 Batch  120/269 - Train Accuracy: 0.9749, Validation Accuracy: 0.9736, Loss: 0.0254\n",
      "Epoch  15 Batch  140/269 - Train Accuracy: 0.9776, Validation Accuracy: 0.9730, Loss: 0.0208\n",
      "Epoch  15 Batch  160/269 - Train Accuracy: 0.9834, Validation Accuracy: 0.9731, Loss: 0.0154\n",
      "Epoch  15 Batch  180/269 - Train Accuracy: 0.9767, Validation Accuracy: 0.9795, Loss: 0.0210\n",
      "Epoch  15 Batch  200/269 - Train Accuracy: 0.9859, Validation Accuracy: 0.9784, Loss: 0.0166\n",
      "Epoch  15 Batch  220/269 - Train Accuracy: 0.9709, Validation Accuracy: 0.9752, Loss: 0.0190\n",
      "Epoch  15 Batch  240/269 - Train Accuracy: 0.9830, Validation Accuracy: 0.9688, Loss: 0.0191\n",
      "Epoch  15 Batch  260/269 - Train Accuracy: 0.9860, Validation Accuracy: 0.9691, Loss: 0.0168\n",
      "Epoch  16 Batch   20/269 - Train Accuracy: 0.9806, Validation Accuracy: 0.9774, Loss: 0.0174\n",
      "Epoch  16 Batch   40/269 - Train Accuracy: 0.9824, Validation Accuracy: 0.9759, Loss: 0.0173\n",
      "Epoch  16 Batch   60/269 - Train Accuracy: 0.9760, Validation Accuracy: 0.9732, Loss: 0.0187\n",
      "Epoch  16 Batch   80/269 - Train Accuracy: 0.9819, Validation Accuracy: 0.9743, Loss: 0.0160\n",
      "Epoch  16 Batch  100/269 - Train Accuracy: 0.9765, Validation Accuracy: 0.9744, Loss: 0.0178\n",
      "Epoch  16 Batch  120/269 - Train Accuracy: 0.9806, Validation Accuracy: 0.9723, Loss: 0.0170\n",
      "Epoch  16 Batch  140/269 - Train Accuracy: 0.9704, Validation Accuracy: 0.9775, Loss: 0.0232\n",
      "Epoch  16 Batch  160/269 - Train Accuracy: 0.9821, Validation Accuracy: 0.9773, Loss: 0.0159\n",
      "Epoch  16 Batch  180/269 - Train Accuracy: 0.9831, Validation Accuracy: 0.9733, Loss: 0.0171\n",
      "Epoch  16 Batch  200/269 - Train Accuracy: 0.9833, Validation Accuracy: 0.9695, Loss: 0.0175\n",
      "Epoch  16 Batch  220/269 - Train Accuracy: 0.9735, Validation Accuracy: 0.9715, Loss: 0.0183\n",
      "Epoch  16 Batch  240/269 - Train Accuracy: 0.9809, Validation Accuracy: 0.9768, Loss: 0.0150\n",
      "Epoch  16 Batch  260/269 - Train Accuracy: 0.9856, Validation Accuracy: 0.9736, Loss: 0.0164\n",
      "Epoch  17 Batch   20/269 - Train Accuracy: 0.9786, Validation Accuracy: 0.9751, Loss: 0.0209\n",
      "Epoch  17 Batch   40/269 - Train Accuracy: 0.9728, Validation Accuracy: 0.9777, Loss: 0.0208\n",
      "Epoch  17 Batch   60/269 - Train Accuracy: 0.9782, Validation Accuracy: 0.9815, Loss: 0.0211\n",
      "Epoch  17 Batch   80/269 - Train Accuracy: 0.9809, Validation Accuracy: 0.9749, Loss: 0.0179\n",
      "Epoch  17 Batch  100/269 - Train Accuracy: 0.9811, Validation Accuracy: 0.9741, Loss: 0.0213\n",
      "Epoch  17 Batch  120/269 - Train Accuracy: 0.9773, Validation Accuracy: 0.9695, Loss: 0.0221\n",
      "Epoch  17 Batch  140/269 - Train Accuracy: 0.9730, Validation Accuracy: 0.9819, Loss: 0.0203\n",
      "Epoch  17 Batch  160/269 - Train Accuracy: 0.9829, Validation Accuracy: 0.9744, Loss: 0.0138\n",
      "Epoch  17 Batch  180/269 - Train Accuracy: 0.9818, Validation Accuracy: 0.9765, Loss: 0.0168\n",
      "Epoch  17 Batch  200/269 - Train Accuracy: 0.9849, Validation Accuracy: 0.9772, Loss: 0.0137\n",
      "Epoch  17 Batch  220/269 - Train Accuracy: 0.9786, Validation Accuracy: 0.9723, Loss: 0.0166\n",
      "Epoch  17 Batch  240/269 - Train Accuracy: 0.9755, Validation Accuracy: 0.9762, Loss: 0.0169\n",
      "Epoch  17 Batch  260/269 - Train Accuracy: 0.9815, Validation Accuracy: 0.9751, Loss: 0.0194\n",
      "Epoch  18 Batch   20/269 - Train Accuracy: 0.9789, Validation Accuracy: 0.9755, Loss: 0.0180\n",
      "Epoch  18 Batch   40/269 - Train Accuracy: 0.9803, Validation Accuracy: 0.9763, Loss: 0.0189\n",
      "Epoch  18 Batch   60/269 - Train Accuracy: 0.9767, Validation Accuracy: 0.9751, Loss: 0.0224\n",
      "Epoch  18 Batch   80/269 - Train Accuracy: 0.9833, Validation Accuracy: 0.9757, Loss: 0.0184\n",
      "Epoch  18 Batch  100/269 - Train Accuracy: 0.9841, Validation Accuracy: 0.9713, Loss: 0.0196\n",
      "Epoch  18 Batch  120/269 - Train Accuracy: 0.9729, Validation Accuracy: 0.9737, Loss: 0.0244\n",
      "Epoch  18 Batch  140/269 - Train Accuracy: 0.9764, Validation Accuracy: 0.9779, Loss: 0.0221\n",
      "Epoch  18 Batch  160/269 - Train Accuracy: 0.9855, Validation Accuracy: 0.9790, Loss: 0.0177\n",
      "Epoch  18 Batch  180/269 - Train Accuracy: 0.9800, Validation Accuracy: 0.9758, Loss: 0.0187\n",
      "Epoch  18 Batch  200/269 - Train Accuracy: 0.9839, Validation Accuracy: 0.9816, Loss: 0.0188\n",
      "Epoch  18 Batch  220/269 - Train Accuracy: 0.9754, Validation Accuracy: 0.9782, Loss: 0.0201\n",
      "Epoch  18 Batch  240/269 - Train Accuracy: 0.9822, Validation Accuracy: 0.9764, Loss: 0.0153\n",
      "Epoch  18 Batch  260/269 - Train Accuracy: 0.9841, Validation Accuracy: 0.9720, Loss: 0.0191\n",
      "Epoch  19 Batch   20/269 - Train Accuracy: 0.9770, Validation Accuracy: 0.9742, Loss: 0.0150\n",
      "Epoch  19 Batch   40/269 - Train Accuracy: 0.9815, Validation Accuracy: 0.9718, Loss: 0.0151\n",
      "Epoch  19 Batch   60/269 - Train Accuracy: 0.9740, Validation Accuracy: 0.9768, Loss: 0.0176\n",
      "Epoch  19 Batch   80/269 - Train Accuracy: 0.9808, Validation Accuracy: 0.9759, Loss: 0.0203\n",
      "Epoch  19 Batch  100/269 - Train Accuracy: 0.9794, Validation Accuracy: 0.9814, Loss: 0.0150\n",
      "Epoch  19 Batch  120/269 - Train Accuracy: 0.9742, Validation Accuracy: 0.9788, Loss: 0.0211\n",
      "Epoch  19 Batch  140/269 - Train Accuracy: 0.9783, Validation Accuracy: 0.9806, Loss: 0.0192\n",
      "Epoch  19 Batch  160/269 - Train Accuracy: 0.9845, Validation Accuracy: 0.9784, Loss: 0.0150\n",
      "Epoch  19 Batch  180/269 - Train Accuracy: 0.9741, Validation Accuracy: 0.9795, Loss: 0.0185\n",
      "Epoch  19 Batch  200/269 - Train Accuracy: 0.9849, Validation Accuracy: 0.9695, Loss: 0.0148\n",
      "Epoch  19 Batch  220/269 - Train Accuracy: 0.9785, Validation Accuracy: 0.9756, Loss: 0.0166\n",
      "Epoch  19 Batch  240/269 - Train Accuracy: 0.9784, Validation Accuracy: 0.9783, Loss: 0.0159\n",
      "Epoch  19 Batch  260/269 - Train Accuracy: 0.9826, Validation Accuracy: 0.9794, Loss: 0.0148\n",
      "Model Trained and Saved\n"
     ]
    }
   ],
   "source": [
    "\"\"\"\n",
    "DON'T MODIFY ANYTHING IN THIS CELL\n",
    "\"\"\"\n",
    "def get_accuracy(target, logits):\n",
    "    \"\"\"\n",
    "    Calculate accuracy\n",
    "    \"\"\"\n",
    "    max_seq = max(target.shape[1], logits.shape[1])\n",
    "    if max_seq - target.shape[1]:\n",
    "        target = np.pad(\n",
    "            target,\n",
    "            [(0,0),(0,max_seq - target.shape[1])],\n",
    "            'constant')\n",
    "    if max_seq - logits.shape[1]:\n",
    "        logits = np.pad(\n",
    "            logits,\n",
    "            [(0,0),(0,max_seq - logits.shape[1])],\n",
    "            'constant')\n",
    "\n",
    "    return np.mean(np.equal(target, logits))\n",
    "\n",
    "# Split data to training and validation sets\n",
    "train_source = source_int_text[batch_size:]\n",
    "train_target = target_int_text[batch_size:]\n",
    "valid_source = source_int_text[:batch_size]\n",
    "valid_target = target_int_text[:batch_size]\n",
    "(valid_sources_batch, valid_targets_batch, valid_sources_lengths, valid_targets_lengths ) = next(get_batches(valid_source,\n",
    "                                                                                                             valid_target,\n",
    "                                                                                                             batch_size,\n",
    "                                                                                                             source_vocab_to_int['<PAD>'],\n",
    "                                                                                                             target_vocab_to_int['<PAD>']))                                                                                                  \n",
    "with tf.Session(graph=train_graph) as sess:\n",
    "    sess.run(tf.global_variables_initializer())\n",
    "\n",
    "    for epoch_i in range(epochs):\n",
    "        for batch_i, (source_batch, target_batch, sources_lengths, targets_lengths) in enumerate(\n",
    "                get_batches(train_source, train_target, batch_size,\n",
    "                            source_vocab_to_int['<PAD>'],\n",
    "                            target_vocab_to_int['<PAD>'])):\n",
    "\n",
    "            _, loss = sess.run(\n",
    "                [train_op, cost],\n",
    "                {input_data: source_batch,\n",
    "                 targets: target_batch,\n",
    "                 lr: learning_rate,\n",
    "                 target_sequence_length: targets_lengths,\n",
    "                 source_sequence_length: sources_lengths,\n",
    "                 keep_prob: keep_probability})\n",
    "\n",
    "\n",
    "            if batch_i % display_step == 0 and batch_i > 0:\n",
    "\n",
    "\n",
    "                batch_train_logits = sess.run(\n",
    "                    inference_logits,\n",
    "                    {input_data: source_batch,\n",
    "                     source_sequence_length: sources_lengths,\n",
    "                     target_sequence_length: targets_lengths,\n",
    "                     keep_prob: 1.0})\n",
    "\n",
    "\n",
    "                batch_valid_logits = sess.run(\n",
    "                    inference_logits,\n",
    "                    {input_data: valid_sources_batch,\n",
    "                     source_sequence_length: valid_sources_lengths,\n",
    "                     target_sequence_length: valid_targets_lengths,\n",
    "                     keep_prob: 1.0})\n",
    "\n",
    "                train_acc = get_accuracy(target_batch, batch_train_logits)\n",
    "\n",
    "                valid_acc = get_accuracy(valid_targets_batch, batch_valid_logits)\n",
    "\n",
    "                print('Epoch {:>3} Batch {:>4}/{} - Train Accuracy: {:>6.4f}, Validation Accuracy: {:>6.4f}, Loss: {:>6.4f}'\n",
    "                      .format(epoch_i, batch_i, len(source_int_text) // batch_size, train_acc, valid_acc, loss))\n",
    "\n",
    "    # Save Model\n",
    "    saver = tf.train.Saver()\n",
    "    saver.save(sess, save_path)\n",
    "    print('Model Trained and Saved')"
   ]
  },
  {
   "cell_type": "markdown",
   "metadata": {
    "deletable": true,
    "editable": true
   },
   "source": [
    "### Save Parameters\n",
    "Save the `batch_size` and `save_path` parameters for inference."
   ]
  },
  {
   "cell_type": "code",
   "execution_count": 39,
   "metadata": {
    "collapsed": true,
    "deletable": true,
    "editable": true
   },
   "outputs": [],
   "source": [
    "\"\"\"\n",
    "DON'T MODIFY ANYTHING IN THIS CELL\n",
    "\"\"\"\n",
    "# Save parameters for checkpoint\n",
    "helper.save_params(save_path)"
   ]
  },
  {
   "cell_type": "markdown",
   "metadata": {
    "deletable": true,
    "editable": true
   },
   "source": [
    "# Checkpoint"
   ]
  },
  {
   "cell_type": "code",
   "execution_count": 40,
   "metadata": {
    "collapsed": true,
    "deletable": true,
    "editable": true
   },
   "outputs": [],
   "source": [
    "\"\"\"\n",
    "DON'T MODIFY ANYTHING IN THIS CELL\n",
    "\"\"\"\n",
    "import tensorflow as tf\n",
    "import numpy as np\n",
    "import helper\n",
    "import problem_unittests as tests\n",
    "\n",
    "_, (source_vocab_to_int, target_vocab_to_int), (source_int_to_vocab, target_int_to_vocab) = helper.load_preprocess()\n",
    "load_path = helper.load_params()"
   ]
  },
  {
   "cell_type": "markdown",
   "metadata": {
    "deletable": true,
    "editable": true
   },
   "source": [
    "## Sentence to Sequence\n",
    "To feed a sentence into the model for translation, you first need to preprocess it.  Implement the function `sentence_to_seq()` to preprocess new sentences.\n",
    "\n",
    "- Convert the sentence to lowercase\n",
    "- Convert words into ids using `vocab_to_int`\n",
    " - Convert words not in the vocabulary, to the `<UNK>` word id."
   ]
  },
  {
   "cell_type": "code",
   "execution_count": 41,
   "metadata": {
    "collapsed": false,
    "deletable": true,
    "editable": true
   },
   "outputs": [
    {
     "name": "stdout",
     "output_type": "stream",
     "text": [
      "Tests Passed\n"
     ]
    }
   ],
   "source": [
    "def sentence_to_seq(sentence, vocab_to_int):\n",
    "    \"\"\"\n",
    "    Convert a sentence to a sequence of ids\n",
    "    :param sentence: String\n",
    "    :param vocab_to_int: Dictionary to go from the words to an id\n",
    "    :return: List of word ids\n",
    "    \"\"\"\n",
    "    # TODO: Implement Function    \n",
    "    return [vocab_to_int.get(word, vocab_to_int['<UNK>']) for word in sentence.lower().split()]\n",
    "\n",
    "\n",
    "\"\"\"\n",
    "DON'T MODIFY ANYTHING IN THIS CELL THAT IS BELOW THIS LINE\n",
    "\"\"\"\n",
    "tests.test_sentence_to_seq(sentence_to_seq)"
   ]
  },
  {
   "cell_type": "markdown",
   "metadata": {
    "deletable": true,
    "editable": true
   },
   "source": [
    "## Translate\n",
    "This will translate `translate_sentence` from English to French."
   ]
  },
  {
   "cell_type": "code",
   "execution_count": 42,
   "metadata": {
    "collapsed": false,
    "deletable": true,
    "editable": true
   },
   "outputs": [
    {
     "name": "stdout",
     "output_type": "stream",
     "text": [
      "INFO:tensorflow:Restoring parameters from checkpoints/dev\n",
      "Input\n",
      "  Word Ids:      [124, 32, 72, 127, 135, 8, 39]\n",
      "  English Words: ['he', 'saw', 'a', 'old', 'yellow', 'truck', '.']\n",
      "\n",
      "Prediction\n",
      "  Word Ids:      [18, 210, 273, 111, 41, 336, 212, 20, 1]\n",
      "  French Words: il a vu un vieux camion jaune . <EOS>\n"
     ]
    }
   ],
   "source": [
    "translate_sentence = 'he saw a old yellow truck .'\n",
    "\n",
    "\n",
    "\"\"\"\n",
    "DON'T MODIFY ANYTHING IN THIS CELL\n",
    "\"\"\"\n",
    "translate_sentence = sentence_to_seq(translate_sentence, source_vocab_to_int)\n",
    "\n",
    "loaded_graph = tf.Graph()\n",
    "with tf.Session(graph=loaded_graph) as sess:\n",
    "    # Load saved model\n",
    "    loader = tf.train.import_meta_graph(load_path + '.meta')\n",
    "    loader.restore(sess, load_path)\n",
    "\n",
    "    input_data = loaded_graph.get_tensor_by_name('input:0')\n",
    "    logits = loaded_graph.get_tensor_by_name('predictions:0')\n",
    "    target_sequence_length = loaded_graph.get_tensor_by_name('target_sequence_length:0')\n",
    "    source_sequence_length = loaded_graph.get_tensor_by_name('source_sequence_length:0')\n",
    "    keep_prob = loaded_graph.get_tensor_by_name('keep_prob:0')\n",
    "\n",
    "    translate_logits = sess.run(logits, {input_data: [translate_sentence]*batch_size,\n",
    "                                         target_sequence_length: [len(translate_sentence)*2]*batch_size,\n",
    "                                         source_sequence_length: [len(translate_sentence)]*batch_size,\n",
    "                                         keep_prob: 1.0})[0]\n",
    "\n",
    "print('Input')\n",
    "print('  Word Ids:      {}'.format([i for i in translate_sentence]))\n",
    "print('  English Words: {}'.format([source_int_to_vocab[i] for i in translate_sentence]))\n",
    "\n",
    "print('\\nPrediction')\n",
    "print('  Word Ids:      {}'.format([i for i in translate_logits]))\n",
    "print('  French Words: {}'.format(\" \".join([target_int_to_vocab[i] for i in translate_logits])))\n"
   ]
  },
  {
   "cell_type": "markdown",
   "metadata": {
    "deletable": true,
    "editable": true
   },
   "source": [
    "## Imperfect Translation\n",
    "You might notice that some sentences translate better than others.  Since the dataset you're using only has a vocabulary of 227 English words of the thousands that you use, you're only going to see good results using these words.  For this project, you don't need a perfect translation. However, if you want to create a better translation model, you'll need better data.\n",
    "\n",
    "You can train on the [WMT10 French-English corpus](http://www.statmt.org/wmt10/training-giga-fren.tar).  This dataset has more vocabulary and richer in topics discussed.  However, this will take you days to train, so make sure you've a GPU and the neural network is performing well on dataset we provided.  Just make sure you play with the WMT10 corpus after you've submitted this project.\n",
    "## Submitting This Project\n",
    "When submitting this project, make sure to run all the cells before saving the notebook. Save the notebook file as \"dlnd_language_translation.ipynb\" and save it as a HTML file under \"File\" -> \"Download as\". Include the \"helper.py\" and \"problem_unittests.py\" files in your submission."
   ]
  },
  {
   "cell_type": "code",
   "execution_count": null,
   "metadata": {
    "collapsed": true,
    "deletable": true,
    "editable": true
   },
   "outputs": [],
   "source": []
  }
 ],
 "metadata": {
  "anaconda-cloud": {},
  "kernelspec": {
   "display_name": "Python 3",
   "language": "python",
   "name": "python3"
  },
  "language_info": {
   "codemirror_mode": {
    "name": "ipython",
    "version": 3
   },
   "file_extension": ".py",
   "mimetype": "text/x-python",
   "name": "python",
   "nbconvert_exporter": "python",
   "pygments_lexer": "ipython3",
   "version": "3.5.2"
  },
  "widgets": {
   "state": {},
   "version": "1.1.2"
  }
 },
 "nbformat": 4,
 "nbformat_minor": 1
}
